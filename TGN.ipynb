{
  "nbformat": 4,
  "nbformat_minor": 0,
  "metadata": {
    "colab": {
      "name": "TGN.ipynb",
      "provenance": [],
      "collapsed_sections": [],
      "include_colab_link": true
    },
    "kernelspec": {
      "name": "python3",
      "display_name": "Python 3"
    },
    "accelerator": "GPU"
  },
  "cells": [
    {
      "cell_type": "markdown",
      "metadata": {
        "id": "view-in-github",
        "colab_type": "text"
      },
      "source": [
        "<a href=\"https://colab.research.google.com/github/Mohit-Mithra/ceiling-graph/blob/main/TGN.ipynb\" target=\"_parent\"><img src=\"https://colab.research.google.com/assets/colab-badge.svg\" alt=\"Open In Colab\"/></a>"
      ]
    },
    {
      "cell_type": "markdown",
      "metadata": {
        "id": "zLuM6Rsj61r3"
      },
      "source": [
        "This is our implementation of the temporal graph network. The link to the summary of this paper is given here:\n",
        "https://docs.google.com/document/d/1lrcuWEtM8nBoIRWkQXsAntg0-vmbtxBjrjk8i4ZHtlU/edit?usp=sharing. Complete details of the paper and code will be given there."
      ]
    },
    {
      "cell_type": "code",
      "metadata": {
        "id": "U31K_Bgx60jC",
        "colab": {
          "base_uri": "https://localhost:8080/"
        },
        "outputId": "80e42afe-0bd7-4f36-87f2-6262b4fb0381"
      },
      "source": [
        "from google.colab import drive\n",
        "drive.mount('/content/gdrive')\n",
        "!pwd\n"
      ],
      "execution_count": null,
      "outputs": [
        {
          "output_type": "stream",
          "text": [
            "Mounted at /content/gdrive\n",
            "/content\n"
          ],
          "name": "stdout"
        }
      ]
    },
    {
      "cell_type": "code",
      "metadata": {
        "id": "cwWi9S3HiHus",
        "colab": {
          "base_uri": "https://localhost:8080/"
        },
        "outputId": "db7bda3a-245f-4485-ab13-8a97e7dc77d4"
      },
      "source": [
        "%cd gdrive/My Drive/ceiling-graphs/Phase_2_Setup_entity_graph_TGN/TGN"
      ],
      "execution_count": null,
      "outputs": [
        {
          "output_type": "stream",
          "text": [
            "/content/gdrive/.shortcut-targets-by-id/1M7ehtNpIR8a-P2UBbiz9qn8cEg7ROX3Y/ceiling-graphs/Phase_2_Setup_entity_graph_TGN/TGN\n"
          ],
          "name": "stdout"
        }
      ]
    },
    {
      "cell_type": "code",
      "metadata": {
        "id": "B7oZ6S6Y7lxy",
        "colab": {
          "base_uri": "https://localhost:8080/",
          "height": 145
        },
        "outputId": "b430b994-7912-4521-ca5f-182e9fba5635"
      },
      "source": [
        "#!git clone https://github.com/twitter-research/tgn.git"
      ],
      "execution_count": null,
      "outputs": [
        {
          "output_type": "stream",
          "text": [
            "Cloning into 'tgn'...\n",
            "remote: Enumerating objects: 159, done.\u001b[K\n",
            "remote: Counting objects: 100% (159/159), done.\u001b[K\n",
            "remote: Compressing objects: 100% (93/93), done.\u001b[K\n",
            "remote: Total 159 (delta 81), reused 135 (delta 61), pack-reused 0\u001b[K\n",
            "Receiving objects: 100% (159/159), 971.85 KiB | 2.85 MiB/s, done.\n",
            "Resolving deltas: 100% (81/81), done.\n"
          ],
          "name": "stdout"
        }
      ]
    },
    {
      "cell_type": "code",
      "metadata": {
        "id": "HzUOwcAz8bci",
        "colab": {
          "base_uri": "https://localhost:8080/",
          "height": 54
        },
        "outputId": "883849da-f756-4570-f9f5-430d18368d96"
      },
      "source": [
        "#%cd tgn/data"
      ],
      "execution_count": null,
      "outputs": [
        {
          "output_type": "stream",
          "text": [
            "[Errno 2] No such file or directory: 'tgn/data'\n",
            "/content/gdrive/My Drive/Phase_2_Setup_entity_graph_TGN/TGN\n"
          ],
          "name": "stdout"
        }
      ]
    },
    {
      "cell_type": "code",
      "metadata": {
        "id": "fWy8R4Lz8fPI",
        "colab": {
          "base_uri": "https://localhost:8080/",
          "height": 237
        },
        "outputId": "7bb8d829-adf0-4073-df33-b1fc6f2d856b"
      },
      "source": [
        "#!wget http://snap.stanford.edu/jodie/reddit.csv"
      ],
      "execution_count": null,
      "outputs": [
        {
          "output_type": "stream",
          "text": [
            "--2020-10-11 04:39:47--  http://snap.stanford.edu/jodie/reddit.csv\n",
            "Resolving snap.stanford.edu (snap.stanford.edu)... 171.64.75.80\n",
            "Connecting to snap.stanford.edu (snap.stanford.edu)|171.64.75.80|:80... connected.\n",
            "HTTP request sent, awaiting response... 200 OK\n",
            "Length: 2368348656 (2.2G) [text/csv]\n",
            "Saving to: ‘reddit.csv’\n",
            "\n",
            "reddit.csv          100%[===================>]   2.21G  4.85MB/s    in 5m 29s  \n",
            "\n",
            "2020-10-11 04:45:16 (6.87 MB/s) - ‘reddit.csv’ saved [2368348656/2368348656]\n",
            "\n"
          ],
          "name": "stdout"
        }
      ]
    },
    {
      "cell_type": "code",
      "metadata": {
        "id": "BrQxMTUA9Rxb",
        "colab": {
          "base_uri": "https://localhost:8080/",
          "height": 237
        },
        "outputId": "17ebda79-d05d-490c-aa73-6d092bb5395c"
      },
      "source": [
        "#!wget http://snap.stanford.edu/jodie/wikipedia.csv"
      ],
      "execution_count": null,
      "outputs": [
        {
          "output_type": "stream",
          "text": [
            "--2020-10-11 04:45:39--  http://snap.stanford.edu/jodie/wikipedia.csv\n",
            "Resolving snap.stanford.edu (snap.stanford.edu)... 171.64.75.80\n",
            "Connecting to snap.stanford.edu (snap.stanford.edu)|171.64.75.80|:80... connected.\n",
            "HTTP request sent, awaiting response... 200 OK\n",
            "Length: 559937473 (534M) [text/csv]\n",
            "Saving to: ‘wikipedia.csv’\n",
            "\n",
            "wikipedia.csv       100%[===================>] 534.00M  8.64MB/s    in 2m 25s  \n",
            "\n",
            "2020-10-11 04:48:04 (3.69 MB/s) - ‘wikipedia.csv’ saved [559937473/559937473]\n",
            "\n"
          ],
          "name": "stdout"
        }
      ]
    },
    {
      "cell_type": "code",
      "metadata": {
        "id": "zyY5EfUk-nyn",
        "colab": {
          "base_uri": "https://localhost:8080/"
        },
        "outputId": "8d96aed3-3e23-458b-ffc8-534d1414dcc9"
      },
      "source": [
        "%cd tgn"
      ],
      "execution_count": null,
      "outputs": [
        {
          "output_type": "stream",
          "text": [
            "/content/gdrive/.shortcut-targets-by-id/1M7ehtNpIR8a-P2UBbiz9qn8cEg7ROX3Y/ceiling-graphs/Phase_2_Setup_entity_graph_TGN/TGN/tgn\n"
          ],
          "name": "stdout"
        }
      ]
    },
    {
      "cell_type": "code",
      "metadata": {
        "id": "Oc4sm71p_U85"
      },
      "source": [
        "!python utils/preprocess_data.py --data wikipedia --bipartite"
      ],
      "execution_count": null,
      "outputs": []
    },
    {
      "cell_type": "code",
      "metadata": {
        "id": "GrhWL4ttFuoL"
      },
      "source": [
        "# !python utils/preprocess_data.py --data reddit --bipartite"
      ],
      "execution_count": null,
      "outputs": []
    },
    {
      "cell_type": "code",
      "metadata": {
        "id": "mjsFPINA_g9k",
        "colab": {
          "base_uri": "https://localhost:8080/"
        },
        "outputId": "b485334f-9152-4aef-88cb-6aabdf070817"
      },
      "source": [
        "!python train_self_supervised.py --use_memory --prefix tgn-attn --n_runs 1"
      ],
      "execution_count": null,
      "outputs": [
        {
          "output_type": "stream",
          "text": [
            "INFO:root:Namespace(aggregator='last', backprop_every=1, bs=200, data='wikipedia', different_new_nodes=False, drop_out=0.1, dyrep=False, embedding_module='graph_attention', gpu=0, lr=0.0001, memory_dim=172, memory_update_at_end=False, memory_updater='gru', message_dim=100, message_function='identity', n_degree=10, n_epoch=50, n_head=2, n_layer=1, n_runs=1, node_dim=100, patience=5, prefix='tgn-attn', randomize_features=False, time_dim=100, uniform=False, use_destination_embedding_in_message=False, use_memory=True, use_source_embedding_in_message=False)\n",
            "The dataset has 157474 interactions, involving 9227 different nodes\n",
            "The training dataset has 81029 interactions, involving 6141 different nodes\n",
            "The validation dataset has 23621 interactions, involving 3256 different nodes\n",
            "The test dataset has 23621 interactions, involving 3564 different nodes\n",
            "The new node validation dataset has 12016 interactions, involving 2120 different nodes\n",
            "The new node test dataset has 11715 interactions, involving 2437 different nodes\n",
            "922 nodes were used for the inductive testing, i.e. are never seen during training\n",
            "INFO:root:num of training instances: 81029\n",
            "INFO:root:num of batches per epoch: 406\n",
            "INFO:root:start 0 epoch\n",
            "INFO:root:epoch: 0 took 34.49s\n",
            "INFO:root:Epoch mean loss: 0.6780275046238171\n",
            "INFO:root:val auc: 0.9476581382553021, new node val auc: 0.9494195696721313\n",
            "INFO:root:val ap: 0.9504558721359926, new node val ap: 0.9525734689461306\n",
            "INFO:root:start 1 epoch\n",
            "INFO:root:epoch: 1 took 34.94s\n",
            "INFO:root:Epoch mean loss: 0.5178555651691746\n",
            "INFO:root:val auc: 0.9636401000876542, new node val auc: 0.9637238729508196\n",
            "INFO:root:val ap: 0.9668292875889938, new node val ap: 0.9672993763536185\n",
            "INFO:root:start 2 epoch\n",
            "INFO:root:epoch: 2 took 34.40s\n",
            "INFO:root:Epoch mean loss: 0.428678813385846\n",
            "INFO:root:val auc: 0.975047328217001, new node val auc: 0.9709120901639343\n",
            "INFO:root:val ap: 0.9767660002397016, new node val ap: 0.9736593075454774\n",
            "INFO:root:start 3 epoch\n",
            "INFO:root:epoch: 3 took 34.75s\n",
            "INFO:root:Epoch mean loss: 0.39428049314932284\n",
            "INFO:root:val auc: 0.9793570773547515, new node val auc: 0.9749735655737704\n",
            "INFO:root:val ap: 0.9805206981835654, new node val ap: 0.9774107736909177\n",
            "INFO:root:start 4 epoch\n",
            "INFO:root:epoch: 4 took 34.80s\n",
            "INFO:root:Epoch mean loss: 0.3709816398291752\n",
            "INFO:root:val auc: 0.9796177916404659, new node val auc: 0.97608125\n",
            "INFO:root:val ap: 0.9809261067325589, new node val ap: 0.978310018821716\n",
            "INFO:root:start 5 epoch\n",
            "INFO:root:epoch: 5 took 34.55s\n",
            "INFO:root:Epoch mean loss: 0.35775108727181487\n",
            "INFO:root:val auc: 0.9812008996455723, new node val auc: 0.9778480532786885\n",
            "INFO:root:val ap: 0.9821837477772262, new node val ap: 0.9798180510054894\n",
            "INFO:root:start 6 epoch\n",
            "INFO:root:epoch: 6 took 35.04s\n",
            "INFO:root:Epoch mean loss: 0.3484058260477235\n",
            "INFO:root:val auc: 0.9825905659883002, new node val auc: 0.97876875\n",
            "INFO:root:val ap: 0.9837408900531559, new node val ap: 0.9807665562255791\n",
            "INFO:root:start 7 epoch\n",
            "INFO:root:epoch: 7 took 34.55s\n",
            "INFO:root:Epoch mean loss: 0.33856667233218113\n",
            "INFO:root:val auc: 0.9831090929228834, new node val auc: 0.9794313524590165\n",
            "INFO:root:val ap: 0.9843181030769321, new node val ap: 0.9815015326576441\n",
            "INFO:root:start 8 epoch\n",
            "INFO:root:epoch: 8 took 35.45s\n",
            "INFO:root:Epoch mean loss: 0.32623235914360715\n",
            "INFO:root:val auc: 0.9837659632900779, new node val auc: 0.9804991803278689\n",
            "INFO:root:val ap: 0.9848670543797139, new node val ap: 0.9823569043539074\n",
            "INFO:root:start 9 epoch\n",
            "INFO:root:epoch: 9 took 34.76s\n",
            "INFO:root:Epoch mean loss: 0.3178409324050537\n",
            "INFO:root:val auc: 0.9834439440061739, new node val auc: 0.978996106557377\n",
            "INFO:root:val ap: 0.9839073914224244, new node val ap: 0.9806372899913941\n",
            "INFO:root:start 10 epoch\n",
            "INFO:root:epoch: 10 took 34.59s\n",
            "INFO:root:Epoch mean loss: 0.31873531790055665\n",
            "INFO:root:val auc: 0.9840690126050421, new node val auc: 0.9798012295081966\n",
            "INFO:root:val ap: 0.9852431508181027, new node val ap: 0.9815409305848599\n",
            "INFO:root:start 11 epoch\n",
            "INFO:root:epoch: 11 took 35.01s\n",
            "INFO:root:Epoch mean loss: 0.31033266310034124\n",
            "INFO:root:val auc: 0.9837706704110216, new node val auc: 0.9788928278688525\n",
            "INFO:root:val ap: 0.9850268178489398, new node val ap: 0.9810456590407657\n",
            "INFO:root:start 12 epoch\n",
            "INFO:root:epoch: 12 took 34.96s\n",
            "INFO:root:Epoch mean loss: 0.31127417241704874\n",
            "INFO:root:val auc: 0.9845016151698773, new node val auc: 0.9806315573770492\n",
            "INFO:root:val ap: 0.9854546669648566, new node val ap: 0.9824903608261796\n",
            "INFO:root:start 13 epoch\n",
            "INFO:root:epoch: 13 took 35.73s\n",
            "INFO:root:Epoch mean loss: 0.30530294834686617\n",
            "INFO:root:val auc: 0.9850450172926315, new node val auc: 0.9820063524590165\n",
            "INFO:root:val ap: 0.9853298680290015, new node val ap: 0.9824939705590974\n",
            "INFO:root:start 14 epoch\n",
            "INFO:root:epoch: 14 took 35.06s\n",
            "INFO:root:Epoch mean loss: 0.30364498235468795\n",
            "INFO:root:val auc: 0.9838605635111185, new node val auc: 0.9798951844262294\n",
            "INFO:root:val ap: 0.9847286752070706, new node val ap: 0.9818267364036266\n",
            "INFO:root:start 15 epoch\n",
            "INFO:root:epoch: 15 took 35.54s\n",
            "INFO:root:Epoch mean loss: 0.29538425421479886\n",
            "INFO:root:val auc: 0.9854584626707825, new node val auc: 0.9817387295081967\n",
            "INFO:root:val ap: 0.9861767426717137, new node val ap: 0.9835375557442481\n",
            "INFO:root:start 16 epoch\n",
            "INFO:root:epoch: 16 took 35.08s\n",
            "INFO:root:Epoch mean loss: 0.29445785390479223\n",
            "INFO:root:val auc: 0.9851237363993216, new node val auc: 0.9814319672131148\n",
            "INFO:root:val ap: 0.9860039447773281, new node val ap: 0.9828775541486623\n",
            "INFO:root:start 17 epoch\n",
            "INFO:root:epoch: 17 took 36.18s\n",
            "INFO:root:Epoch mean loss: 0.2899501384625881\n",
            "INFO:root:val auc: 0.9856268450237239, new node val auc: 0.9825220286885245\n",
            "INFO:root:val ap: 0.986121562665831, new node val ap: 0.9838185461797664\n",
            "INFO:root:start 18 epoch\n",
            "INFO:root:epoch: 18 took 36.06s\n",
            "INFO:root:Epoch mean loss: 0.2844253939948059\n",
            "INFO:root:val auc: 0.9853256895615389, new node val auc: 0.9813944672131149\n",
            "INFO:root:val ap: 0.9861020707969699, new node val ap: 0.9828372971771625\n",
            "INFO:root:start 19 epoch\n",
            "INFO:root:epoch: 19 took 36.09s\n",
            "INFO:root:Epoch mean loss: 0.2832334877308366\n",
            "INFO:root:val auc: 0.9858383798757598, new node val auc: 0.9823592213114756\n",
            "INFO:root:val ap: 0.9866696850656539, new node val ap: 0.9834979917878536\n",
            "INFO:root:start 20 epoch\n",
            "INFO:root:epoch: 20 took 36.47s\n",
            "INFO:root:Epoch mean loss: 0.28460151287428853\n",
            "INFO:root:val auc: 0.9863252069875569, new node val auc: 0.9831009221311477\n",
            "INFO:root:val ap: 0.9870061546771293, new node val ap: 0.984650452054678\n",
            "INFO:root:start 21 epoch\n",
            "INFO:root:epoch: 21 took 36.30s\n",
            "INFO:root:Epoch mean loss: 0.2765600360159216\n",
            "INFO:root:val auc: 0.9862378120295737, new node val auc: 0.984142930327869\n",
            "INFO:root:val ap: 0.9868567430551782, new node val ap: 0.9855817239095298\n",
            "INFO:root:start 22 epoch\n",
            "INFO:root:epoch: 22 took 36.52s\n",
            "INFO:root:Epoch mean loss: 0.2731878403482472\n",
            "INFO:root:val auc: 0.986354408668229, new node val auc: 0.9835478483606557\n",
            "INFO:root:val ap: 0.9870124865810694, new node val ap: 0.9850008287324412\n",
            "INFO:root:start 23 epoch\n",
            "INFO:root:epoch: 23 took 36.21s\n",
            "INFO:root:Epoch mean loss: 0.2697604949875125\n",
            "INFO:root:val auc: 0.9862931660759542, new node val auc: 0.9837561475409834\n",
            "INFO:root:val ap: 0.9868310440152208, new node val ap: 0.9851289177975935\n",
            "INFO:root:start 24 epoch\n",
            "INFO:root:epoch: 24 took 36.77s\n",
            "INFO:root:Epoch mean loss: 0.26910628749085175\n",
            "INFO:root:val auc: 0.9857202669162902, new node val auc: 0.9831115778688524\n",
            "INFO:root:val ap: 0.9864292318390483, new node val ap: 0.9845022722793763\n",
            "INFO:root:start 25 epoch\n",
            "INFO:root:epoch: 25 took 36.28s\n",
            "INFO:root:Epoch mean loss: 0.2693657401049959\n",
            "INFO:root:val auc: 0.9855977712513577, new node val auc: 0.9828784836065575\n",
            "INFO:root:val ap: 0.9862676874660111, new node val ap: 0.9844528892351836\n",
            "INFO:root:start 26 epoch\n",
            "INFO:root:epoch: 26 took 36.47s\n",
            "INFO:root:Epoch mean loss: 0.26727208733705465\n",
            "INFO:root:val auc: 0.9858144302959282, new node val auc: 0.9832579918032787\n",
            "INFO:root:val ap: 0.9865373032506688, new node val ap: 0.9847374032527552\n",
            "INFO:root:start 27 epoch\n",
            "INFO:root:epoch: 27 took 36.35s\n",
            "INFO:root:Epoch mean loss: 0.26331871322223116\n",
            "INFO:root:val auc: 0.9870118468816098, new node val auc: 0.9844661885245901\n",
            "INFO:root:val ap: 0.9878513732455128, new node val ap: 0.9857408687884653\n",
            "Traceback (most recent call last):\n",
            "  File \"train_self_supervised.py\", line 302, in <module>\n",
            "    torch.save(tgn.state_dict(), get_checkpoint_path(epoch))\n",
            "  File \"/usr/local/lib/python3.6/dist-packages/torch/serialization.py\", line 369, in save\n",
            "    with _open_file_like(f, 'wb') as opened_file:\n",
            "  File \"/usr/local/lib/python3.6/dist-packages/torch/serialization.py\", line 230, in _open_file_like\n",
            "    return _open_file(name_or_buffer, mode)\n",
            "  File \"/usr/local/lib/python3.6/dist-packages/torch/serialization.py\", line 211, in __init__\n",
            "    super(_open_file, self).__init__(open(name, mode))\n",
            "KeyboardInterrupt\n"
          ],
          "name": "stdout"
        }
      ]
    },
    {
      "cell_type": "code",
      "metadata": {
        "id": "B_utFLZ5Flj_",
        "colab": {
          "base_uri": "https://localhost:8080/",
          "height": 346
        },
        "outputId": "7fb113c6-24d8-47f5-e10e-d44e64c7fc2b"
      },
      "source": [
        "!python train_supervised.py --use_memory --prefix tgn-attn --n_runs 1"
      ],
      "execution_count": null,
      "outputs": [
        {
          "output_type": "stream",
          "text": [
            "INFO:root:Namespace(aggregator='last', backprop_every=1, bs=100, data='wikipedia', different_new_nodes=False, drop_out=0.1, embedding_module='graph_attention', gpu=0, lr=0.0003, memory_dim=172, memory_update_at_end=False, message_dim=100, message_function='identity', n_degree=10, n_epoch=10, n_head=2, n_layer=1, n_neg=1, n_runs=1, new_node=False, node_dim=100, patience=5, prefix='tgn-attn', randomize_features=False, time_dim=100, uniform=False, use_destination_embedding_in_message=False, use_memory=True, use_source_embedding_in_message=False, use_validation=False)\n",
            "DEBUG:root:Num of training instances: 133853\n",
            "DEBUG:root:Num of batches per epoch: 1339\n",
            "INFO:root:Loading saved TGN model\n",
            "INFO:root:TGN models loaded\n",
            "INFO:root:Start training node classification task\n",
            "INFO:root:Epoch 0: train loss: 0.03854482959080599, val auc: 0.8895355450419707, time: 52.88731265068054\n",
            "INFO:root:Epoch 1: train loss: 0.01034392374890677, val auc: 0.8840978495991857, time: 54.118865966796875\n",
            "INFO:root:Epoch 2: train loss: 0.00940780347241666, val auc: 0.8779304368278793, time: 53.51263737678528\n",
            "INFO:root:Epoch 3: train loss: 0.009353965460412348, val auc: 0.8739888065024851, time: 54.270477056503296\n",
            "INFO:root:Epoch 4: train loss: 0.009318737467212563, val auc: 0.880464686308305, time: 53.891905546188354\n",
            "INFO:root:Epoch 5: train loss: 0.009172348833223057, val auc: 0.8774339976942089, time: 54.28335165977478\n",
            "INFO:root:Epoch 6: train loss: 0.009004009038902756, val auc: 0.8784904972874179, time: 53.49747347831726\n",
            "INFO:root:Epoch 7: train loss: 0.009009271398221634, val auc: 0.874201841548196, time: 53.89899396896362\n",
            "INFO:root:Epoch 8: train loss: 0.009161150999705615, val auc: 0.8799451121470462, time: 53.7364182472229\n",
            "INFO:root:Epoch 9: train loss: 0.008699759353361999, val auc: 0.8791922597909365, time: 54.42079567909241\n",
            "INFO:root:test auc: 0.8791922597909365\n"
          ],
          "name": "stdout"
        }
      ]
    },
    {
      "cell_type": "code",
      "metadata": {
        "id": "HSrCMtpHXGCy",
        "colab": {
          "base_uri": "https://localhost:8080/",
          "height": 197
        },
        "outputId": "d5803395-6eb6-40b0-bd1f-cd7a84809829"
      },
      "source": [
        "import numpy as np\n",
        "data_name = './data/{}.csv'.format('reddit')\n",
        "u_list, i_list, ts_list, label_list = [], [], [], []\n",
        "feat_l = []\n",
        "idx_list = []\n",
        "\n",
        "i = 0\n",
        "with open(data_name) as f:\n",
        "\n",
        "    s = next(f)\n",
        "    for idx, line in enumerate(f):\n",
        "        i += 1\n",
        "        if(i == 10000):\n",
        "            break\n",
        "        e = line.strip().split(',')\n",
        "        #print(e)\n",
        "        u = int(e[0])\n",
        "        i = int(e[1])\n",
        "\n",
        "        ts = float(e[2])\n",
        "        label = float(e[3])  # int(e[3])\n",
        "\n",
        "        feat = np.array([float(x) for x in e[4:]])\n",
        "        #print(u, i, feat)\n",
        "        u_list.append(u)\n",
        "        i_list.append(i)\n",
        "        ts_list.append(ts)\n",
        "        label_list.append(label)\n",
        "        idx_list.append(idx)\n",
        "\n",
        "        feat_l.append(feat)\n",
        "\n",
        "\n",
        "\n"
      ],
      "execution_count": null,
      "outputs": [
        {
          "output_type": "error",
          "ename": "TypeError",
          "evalue": "ignored",
          "traceback": [
            "\u001b[0;31m---------------------------------------------------------------------------\u001b[0m",
            "\u001b[0;31mTypeError\u001b[0m                                 Traceback (most recent call last)",
            "\u001b[0;32m<ipython-input-11-a079a6e6a58b>\u001b[0m in \u001b[0;36m<module>\u001b[0;34m()\u001b[0m\n\u001b[1;32m     33\u001b[0m \u001b[0;34m\u001b[0m\u001b[0m\n\u001b[1;32m     34\u001b[0m \u001b[0;34m\u001b[0m\u001b[0m\n\u001b[0;32m---> 35\u001b[0;31m \u001b[0mprint\u001b[0m\u001b[0;34m(\u001b[0m\u001b[0msum\u001b[0m\u001b[0;34m(\u001b[0m\u001b[0mi\u001b[0m\u001b[0;34m)\u001b[0m\u001b[0;34m)\u001b[0m\u001b[0;34m\u001b[0m\u001b[0;34m\u001b[0m\u001b[0m\n\u001b[0m",
            "\u001b[0;31mTypeError\u001b[0m: 'int' object is not iterable"
          ]
        }
      ]
    },
    {
      "cell_type": "code",
      "metadata": {
        "id": "8bDsfEuFBk3a"
      },
      "source": [
        "while(1):\n",
        "    i = 0"
      ],
      "execution_count": null,
      "outputs": []
    },
    {
      "cell_type": "code",
      "metadata": {
        "id": "1YNxvVQ7D72M",
        "colab": {
          "base_uri": "https://localhost:8080/"
        },
        "outputId": "cea1b603-9039-4bf5-e4de-38682fc6036c"
      },
      "source": [
        "print(sum(label_list))"
      ],
      "execution_count": null,
      "outputs": [
        {
          "output_type": "stream",
          "text": [
            "366.0\n"
          ],
          "name": "stdout"
        }
      ]
    },
    {
      "cell_type": "code",
      "metadata": {
        "id": "2cLoBGoVM9Kh"
      },
      "source": [
        ""
      ],
      "execution_count": null,
      "outputs": []
    }
  ]
}