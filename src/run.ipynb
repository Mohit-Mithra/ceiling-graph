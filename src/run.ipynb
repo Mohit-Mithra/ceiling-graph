{
 "cells": [
  {
   "cell_type": "code",
   "execution_count": 1,
   "metadata": {
    "executionInfo": {
     "elapsed": 26074,
     "status": "ok",
     "timestamp": 1612329585461,
     "user": {
      "displayName": "Mohith R",
      "photoUrl": "",
      "userId": "02537336237374578308"
     },
     "user_tz": -330
    },
    "id": "Sy67T4GOUFbw"
   },
   "outputs": [],
   "source": [
    "# !pip install --no-index torch-scatter -f https://pytorch-geometric.com/whl/torch-1.7.0+cu101.html\n",
    "# !pip install --no-index torch-sparse -f https://pytorch-geometric.com/whl/torch-1.7.0+cu101.html\n",
    "# !pip install --no-index torch-cluster -f https://pytorch-geometric.com/whl/torch-1.7.0+cu101.html\n",
    "# !pip install --no-index torch-spline-conv -f https://pytorch-geometric.com/whl/torch-1.7.0+cu101.html\n",
    "# !pip install git+https://github.com/rusty1s/pytorch_geometric.git"
   ]
  },
  {
   "cell_type": "code",
   "execution_count": 5,
   "metadata": {
    "colab": {
     "base_uri": "https://localhost:8080/"
    },
    "executionInfo": {
     "elapsed": 828850,
     "status": "ok",
     "timestamp": 1612330659628,
     "user": {
      "displayName": "Mohith R",
      "photoUrl": "",
      "userId": "02537336237374578308"
     },
     "user_tz": -330
    },
    "id": "l94m7j7qURxW",
    "outputId": "bc1461a3-40ba-4dd4-88fa-8ea62fb5df83"
   },
   "outputs": [
    {
     "name": "stdout",
     "output_type": "stream",
     "text": [
      "  Epoch: 01, Loss: 0.9967\n",
      " Val AP: 0.9014,  Val AUC: 0.9038, Val Acc: 0.8165 \n",
      "Test AP: 0.8748, Test AUC: 0.8795, Test Acc: 0.7845\n",
      "  Epoch: 02, Loss: 0.7193\n",
      " Val AP: 0.9440,  Val AUC: 0.9391, Val Acc: 0.8627 \n",
      "Test AP: 0.9419, Test AUC: 0.9381, Test Acc: 0.8633\n",
      "  Epoch: 03, Loss: 0.6494\n",
      " Val AP: 0.9505,  Val AUC: 0.9455, Val Acc: 0.8709 \n",
      "Test AP: 0.9472, Test AUC: 0.9432, Test Acc: 0.8648\n",
      "  Epoch: 04, Loss: 0.6143\n",
      " Val AP: 0.9556,  Val AUC: 0.9507, Val Acc: 0.8785 \n",
      "Test AP: 0.9520, Test AUC: 0.9475, Test Acc: 0.8712\n",
      "  Epoch: 05, Loss: 0.5903\n",
      " Val AP: 0.9589,  Val AUC: 0.9542, Val Acc: 0.8844 \n",
      "Test AP: 0.9548, Test AUC: 0.9503, Test Acc: 0.8795\n",
      "  Epoch: 06, Loss: 0.5675\n",
      " Val AP: 0.9599,  Val AUC: 0.9564, Val Acc: 0.8876 \n",
      "Test AP: 0.9560, Test AUC: 0.9535, Test Acc: 0.8790\n",
      "  Epoch: 07, Loss: 0.5494\n",
      " Val AP: 0.9641,  Val AUC: 0.9602, Val Acc: 0.8929 \n",
      "Test AP: 0.9605, Test AUC: 0.9568, Test Acc: 0.8843\n",
      "  Epoch: 08, Loss: 0.5321\n",
      " Val AP: 0.9636,  Val AUC: 0.9599, Val Acc: 0.8925 \n",
      "Test AP: 0.9584, Test AUC: 0.9556, Test Acc: 0.8840\n",
      "  Epoch: 09, Loss: 0.5229\n",
      " Val AP: 0.9646,  Val AUC: 0.9605, Val Acc: 0.8948 \n",
      "Test AP: 0.9598, Test AUC: 0.9565, Test Acc: 0.8855\n",
      "  Epoch: 10, Loss: 0.5088\n",
      " Val AP: 0.9654,  Val AUC: 0.9618, Val Acc: 0.8951 \n",
      "Test AP: 0.9603, Test AUC: 0.9581, Test Acc: 0.8861\n",
      "  Epoch: 11, Loss: 0.5004\n",
      " Val AP: 0.9666,  Val AUC: 0.9630, Val Acc: 0.8963 \n",
      "Test AP: 0.9596, Test AUC: 0.9576, Test Acc: 0.8861\n",
      "  Epoch: 12, Loss: 0.4995\n",
      " Val AP: 0.9671,  Val AUC: 0.9635, Val Acc: 0.8962 \n",
      "Test AP: 0.9631, Test AUC: 0.9600, Test Acc: 0.8895\n",
      "  Epoch: 13, Loss: 0.4935\n",
      " Val AP: 0.9667,  Val AUC: 0.9617, Val Acc: 0.8954 \n",
      "Test AP: 0.9630, Test AUC: 0.9593, Test Acc: 0.8895\n",
      "  Epoch: 14, Loss: 0.4856\n",
      " Val AP: 0.9674,  Val AUC: 0.9630, Val Acc: 0.8968 \n",
      "Test AP: 0.9626, Test AUC: 0.9592, Test Acc: 0.8884\n",
      "  Epoch: 15, Loss: 0.4751\n",
      " Val AP: 0.9673,  Val AUC: 0.9633, Val Acc: 0.8964 \n",
      "Test AP: 0.9642, Test AUC: 0.9604, Test Acc: 0.8899\n",
      "  Epoch: 16, Loss: 0.4728\n",
      " Val AP: 0.9686,  Val AUC: 0.9642, Val Acc: 0.8969 \n",
      "Test AP: 0.9641, Test AUC: 0.9602, Test Acc: 0.8884\n",
      "  Epoch: 17, Loss: 0.4602\n",
      " Val AP: 0.9708,  Val AUC: 0.9666, Val Acc: 0.8994 \n",
      "Test AP: 0.9640, Test AUC: 0.9615, Test Acc: 0.8888\n",
      "  Epoch: 18, Loss: 0.4516\n",
      " Val AP: 0.9703,  Val AUC: 0.9667, Val Acc: 0.8962 \n",
      "Test AP: 0.9662, Test AUC: 0.9628, Test Acc: 0.8910\n",
      "  Epoch: 19, Loss: 0.4462\n",
      " Val AP: 0.9702,  Val AUC: 0.9666, Val Acc: 0.9015 \n",
      "Test AP: 0.9664, Test AUC: 0.9631, Test Acc: 0.8949\n"
     ]
    }
   ],
   "source": [
    "!python train.py"
   ]
  },
  {
   "cell_type": "code",
   "execution_count": null,
   "metadata": {
    "id": "in4aN9cVUavW"
   },
   "outputs": [],
   "source": []
  }
 ],
 "metadata": {
  "accelerator": "GPU",
  "colab": {
   "authorship_tag": "ABX9TyPXj3kMn4S0F0x6BfHTYJvs",
   "name": "run.ipynb",
   "provenance": []
  },
  "kernelspec": {
   "display_name": "Python 3",
   "language": "python",
   "name": "python3"
  },
  "language_info": {
   "codemirror_mode": {
    "name": "ipython",
    "version": 3
   },
   "file_extension": ".py",
   "mimetype": "text/x-python",
   "name": "python",
   "nbconvert_exporter": "python",
   "pygments_lexer": "ipython3",
   "version": "3.7.3"
  }
 },
 "nbformat": 4,
 "nbformat_minor": 1
}
