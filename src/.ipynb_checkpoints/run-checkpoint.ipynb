{
 "cells": [
  {
   "cell_type": "code",
   "execution_count": 2,
   "metadata": {
    "id": "Sy67T4GOUFbw"
   },
   "outputs": [],
   "source": [
    "%%capture\n",
    "!pip install --no-index torch-scatter -f https://pytorch-geometric.com/whl/torch-1.8.0+cu101.html\n",
    "!pip install --no-index torch-sparse -f https://pytorch-geometric.com/whl/torch-1.8.0+cu101.html\n",
    "!pip install --no-index torch-cluster -f https://pytorch-geometric.com/whl/torch-1.8.0+cu101.html\n",
    "!pip install --no-index torch-spline-conv -f https://pytorch-geometric.com/whl/torch-1.8.0+cu101.html\n",
    "!pip install git+https://github.com/rusty1s/pytorch_geometric.git"
   ]
  },
  {
   "cell_type": "code",
   "execution_count": 15,
   "metadata": {
    "colab": {
     "base_uri": "https://localhost:8080/"
    },
    "id": "l94m7j7qURxW",
    "outputId": "67acdca7-ec5d-46e4-b42e-62b2717a94e1"
   },
   "outputs": [
    {
     "name": "stdout",
     "output_type": "stream",
     "text": [
      "  Epoch: 01, Loss: 1.0222\n",
      " Val AP: 0.8559,  Val AUC: 0.8772\n",
      "Test AP: 0.8518, Test AUC: 0.8716\n",
      "  Epoch: 02, Loss: 0.7335\n",
      " Val AP: 0.9360,  Val AUC: 0.9397\n",
      "Test AP: 0.9293, Test AUC: 0.9338\n",
      "  Epoch: 03, Loss: 0.5984\n",
      " Val AP: 0.9523,  Val AUC: 0.9532\n",
      "Test AP: 0.9473, Test AUC: 0.9491\n",
      "  Epoch: 04, Loss: 0.5604\n",
      " Val AP: 0.9569,  Val AUC: 0.9575\n",
      "Test AP: 0.9489, Test AUC: 0.9505\n",
      "  Epoch: 05, Loss: 0.5367\n",
      " Val AP: 0.9592,  Val AUC: 0.9600\n",
      "Test AP: 0.9550, Test AUC: 0.9560\n",
      "  Epoch: 06, Loss: 0.5175\n",
      " Val AP: 0.9606,  Val AUC: 0.9619\n",
      "Test AP: 0.9564, Test AUC: 0.9581\n",
      "  Epoch: 07, Loss: 0.4963\n",
      " Val AP: 0.9639,  Val AUC: 0.9653\n",
      "Test AP: 0.9590, Test AUC: 0.9604\n",
      "  Epoch: 08, Loss: 0.4717\n",
      " Val AP: 0.9671,  Val AUC: 0.9679\n",
      "Test AP: 0.9636, Test AUC: 0.9645\n",
      "  Epoch: 09, Loss: 0.4438\n",
      " Val AP: 0.9687,  Val AUC: 0.9693\n",
      "Test AP: 0.9654, Test AUC: 0.9664\n",
      "  Epoch: 10, Loss: 0.4204\n",
      " Val AP: 0.9718,  Val AUC: 0.9727\n",
      "Test AP: 0.9674, Test AUC: 0.9688\n",
      "  Epoch: 11, Loss: 0.4031\n",
      " Val AP: 0.9735,  Val AUC: 0.9738\n",
      "Test AP: 0.9688, Test AUC: 0.9696\n",
      "  Epoch: 12, Loss: 0.3925\n",
      " Val AP: 0.9740,  Val AUC: 0.9743\n",
      "Test AP: 0.9713, Test AUC: 0.9715\n",
      "  Epoch: 13, Loss: 0.3789\n",
      " Val AP: 0.9758,  Val AUC: 0.9762\n",
      "Test AP: 0.9726, Test AUC: 0.9732\n",
      "  Epoch: 14, Loss: 0.3680\n",
      " Val AP: 0.9744,  Val AUC: 0.9755\n",
      "Test AP: 0.9728, Test AUC: 0.9732\n",
      "  Epoch: 15, Loss: 0.3573\n",
      " Val AP: 0.9761,  Val AUC: 0.9768\n",
      "Test AP: 0.9729, Test AUC: 0.9739\n",
      "  Epoch: 16, Loss: 0.3502\n",
      " Val AP: 0.9767,  Val AUC: 0.9774\n",
      "Test AP: 0.9732, Test AUC: 0.9737\n",
      "  Epoch: 17, Loss: 0.3370\n",
      " Val AP: 0.9784,  Val AUC: 0.9788\n",
      "Test AP: 0.9751, Test AUC: 0.9756\n",
      "  Epoch: 18, Loss: 0.3318\n",
      " Val AP: 0.9787,  Val AUC: 0.9788\n",
      "Test AP: 0.9739, Test AUC: 0.9746\n",
      "  Epoch: 19, Loss: 0.3221\n",
      " Val AP: 0.9794,  Val AUC: 0.9796\n",
      "Test AP: 0.9749, Test AUC: 0.9756\n"
     ]
    }
   ],
   "source": [
    "!python run.py"
   ]
  }
 ],
 "metadata": {
  "accelerator": "GPU",
  "colab": {
   "collapsed_sections": [],
   "name": "run.ipynb",
   "provenance": []
  },
  "kernelspec": {
   "display_name": "Python 3",
   "language": "python",
   "name": "python3"
  },
  "language_info": {
   "codemirror_mode": {
    "name": "ipython",
    "version": 3
   },
   "file_extension": ".py",
   "mimetype": "text/x-python",
   "name": "python",
   "nbconvert_exporter": "python",
   "pygments_lexer": "ipython3",
   "version": "3.7.3"
  }
 },
 "nbformat": 4,
 "nbformat_minor": 1
}
