{
  "nbformat": 4,
  "nbformat_minor": 0,
  "metadata": {
    "colab": {
      "name": "random_dataset.ipynb",
      "provenance": [],
      "authorship_tag": "ABX9TyNyTcsYiu39SrGZF8/Uz9yr",
      "include_colab_link": true
    },
    "kernelspec": {
      "name": "python3",
      "display_name": "Python 3"
    }
  },
  "cells": [
    {
      "cell_type": "markdown",
      "metadata": {
        "id": "view-in-github",
        "colab_type": "text"
      },
      "source": [
        "<a href=\"https://colab.research.google.com/github/Mohit-Mithra/ceiling-graph/blob/main/random_dataset.ipynb\" target=\"_parent\"><img src=\"https://colab.research.google.com/assets/colab-badge.svg\" alt=\"Open In Colab\"/></a>"
      ]
    },
    {
      "cell_type": "code",
      "metadata": {
        "id": "1RRNNK2Rc-2k"
      },
      "source": [
        "import pandas as pd\n",
        "import numpy as np"
      ],
      "execution_count": null,
      "outputs": []
    },
    {
      "cell_type": "code",
      "metadata": {
        "id": "9nU5QBdndI-0"
      },
      "source": [
        "u_nodes = np.random.randint(1,500000,100000).reshape(100000,1)\n",
        "v_nodes = np.random.randint(1,500000,100000).reshape(100000,1)\n",
        "timesteps = np.random.randint(1,100000,100000).reshape(100000,1)\n",
        "timesteps = np.sort(timesteps).reshape(100000,1)\n",
        "feat_type = np.ones(100000).reshape(100000,1)\n",
        "state_features = np.zeros(100000).reshape(100000,1)"
      ],
      "execution_count": null,
      "outputs": []
    },
    {
      "cell_type": "code",
      "metadata": {
        "colab": {
          "base_uri": "https://localhost:8080/"
        },
        "id": "ysHQlWXlgeLP",
        "outputId": "2fefce70-cac4-4a81-f015-3b22b9f03472"
      },
      "source": [
        ""
      ],
      "execution_count": null,
      "outputs": [
        {
          "output_type": "stream",
          "text": [
            "(100000,)\n"
          ],
          "name": "stdout"
        }
      ]
    },
    {
      "cell_type": "code",
      "metadata": {
        "id": "qTZIyaC-gAxN"
      },
      "source": [
        "data = np.concatenate((u_nodes,v_nodes,timesteps,feat_type,state_features),axis = 1)\n",
        "df = pd.DataFrame(data)"
      ],
      "execution_count": null,
      "outputs": []
    },
    {
      "cell_type": "code",
      "metadata": {
        "colab": {
          "base_uri": "https://localhost:8080/",
          "height": 415
        },
        "id": "p4tNx-jnhbjS",
        "outputId": "0a0396cd-e925-4782-a47d-38ab23fc8eed"
      },
      "source": [
        "df\n"
      ],
      "execution_count": null,
      "outputs": [
        {
          "output_type": "execute_result",
          "data": {
            "text/html": [
              "<div>\n",
              "<style scoped>\n",
              "    .dataframe tbody tr th:only-of-type {\n",
              "        vertical-align: middle;\n",
              "    }\n",
              "\n",
              "    .dataframe tbody tr th {\n",
              "        vertical-align: top;\n",
              "    }\n",
              "\n",
              "    .dataframe thead th {\n",
              "        text-align: right;\n",
              "    }\n",
              "</style>\n",
              "<table border=\"1\" class=\"dataframe\">\n",
              "  <thead>\n",
              "    <tr style=\"text-align: right;\">\n",
              "      <th></th>\n",
              "      <th>0</th>\n",
              "      <th>1</th>\n",
              "      <th>2</th>\n",
              "      <th>3</th>\n",
              "      <th>4</th>\n",
              "    </tr>\n",
              "  </thead>\n",
              "  <tbody>\n",
              "    <tr>\n",
              "      <th>0</th>\n",
              "      <td>85934.0</td>\n",
              "      <td>457773.0</td>\n",
              "      <td>98159.0</td>\n",
              "      <td>1.0</td>\n",
              "      <td>0.0</td>\n",
              "    </tr>\n",
              "    <tr>\n",
              "      <th>1</th>\n",
              "      <td>408766.0</td>\n",
              "      <td>52699.0</td>\n",
              "      <td>42392.0</td>\n",
              "      <td>1.0</td>\n",
              "      <td>0.0</td>\n",
              "    </tr>\n",
              "    <tr>\n",
              "      <th>2</th>\n",
              "      <td>217673.0</td>\n",
              "      <td>491963.0</td>\n",
              "      <td>72755.0</td>\n",
              "      <td>1.0</td>\n",
              "      <td>0.0</td>\n",
              "    </tr>\n",
              "    <tr>\n",
              "      <th>3</th>\n",
              "      <td>314512.0</td>\n",
              "      <td>269129.0</td>\n",
              "      <td>13855.0</td>\n",
              "      <td>1.0</td>\n",
              "      <td>0.0</td>\n",
              "    </tr>\n",
              "    <tr>\n",
              "      <th>4</th>\n",
              "      <td>336536.0</td>\n",
              "      <td>137078.0</td>\n",
              "      <td>99479.0</td>\n",
              "      <td>1.0</td>\n",
              "      <td>0.0</td>\n",
              "    </tr>\n",
              "    <tr>\n",
              "      <th>...</th>\n",
              "      <td>...</td>\n",
              "      <td>...</td>\n",
              "      <td>...</td>\n",
              "      <td>...</td>\n",
              "      <td>...</td>\n",
              "    </tr>\n",
              "    <tr>\n",
              "      <th>99995</th>\n",
              "      <td>448810.0</td>\n",
              "      <td>491638.0</td>\n",
              "      <td>30329.0</td>\n",
              "      <td>1.0</td>\n",
              "      <td>0.0</td>\n",
              "    </tr>\n",
              "    <tr>\n",
              "      <th>99996</th>\n",
              "      <td>211041.0</td>\n",
              "      <td>165456.0</td>\n",
              "      <td>11068.0</td>\n",
              "      <td>1.0</td>\n",
              "      <td>0.0</td>\n",
              "    </tr>\n",
              "    <tr>\n",
              "      <th>99997</th>\n",
              "      <td>59943.0</td>\n",
              "      <td>469820.0</td>\n",
              "      <td>33803.0</td>\n",
              "      <td>1.0</td>\n",
              "      <td>0.0</td>\n",
              "    </tr>\n",
              "    <tr>\n",
              "      <th>99998</th>\n",
              "      <td>174189.0</td>\n",
              "      <td>198380.0</td>\n",
              "      <td>85163.0</td>\n",
              "      <td>1.0</td>\n",
              "      <td>0.0</td>\n",
              "    </tr>\n",
              "    <tr>\n",
              "      <th>99999</th>\n",
              "      <td>469338.0</td>\n",
              "      <td>18591.0</td>\n",
              "      <td>33093.0</td>\n",
              "      <td>1.0</td>\n",
              "      <td>0.0</td>\n",
              "    </tr>\n",
              "  </tbody>\n",
              "</table>\n",
              "<p>100000 rows × 5 columns</p>\n",
              "</div>"
            ],
            "text/plain": [
              "              0         1        2    3    4\n",
              "0       85934.0  457773.0  98159.0  1.0  0.0\n",
              "1      408766.0   52699.0  42392.0  1.0  0.0\n",
              "2      217673.0  491963.0  72755.0  1.0  0.0\n",
              "3      314512.0  269129.0  13855.0  1.0  0.0\n",
              "4      336536.0  137078.0  99479.0  1.0  0.0\n",
              "...         ...       ...      ...  ...  ...\n",
              "99995  448810.0  491638.0  30329.0  1.0  0.0\n",
              "99996  211041.0  165456.0  11068.0  1.0  0.0\n",
              "99997   59943.0  469820.0  33803.0  1.0  0.0\n",
              "99998  174189.0  198380.0  85163.0  1.0  0.0\n",
              "99999  469338.0   18591.0  33093.0  1.0  0.0\n",
              "\n",
              "[100000 rows x 5 columns]"
            ]
          },
          "metadata": {
            "tags": []
          },
          "execution_count": 19
        }
      ]
    },
    {
      "cell_type": "code",
      "metadata": {
        "id": "-ZsW8rRVjFmf"
      },
      "source": [
        "columns = ['user_id', 'item_id', 'timestamp', 'state_label', 'comma_separated_list_of_features'] \n",
        "df.to_csv(\"random.csv\", header=columns, index=False)  #Save it as datasetname.csv"
      ],
      "execution_count": null,
      "outputs": []
    },
    {
      "cell_type": "code",
      "metadata": {
        "id": "eMcGdyt3jlIF"
      },
      "source": [
        ""
      ],
      "execution_count": null,
      "outputs": []
    }
  ]
}