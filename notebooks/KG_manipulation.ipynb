{
  "nbformat": 4,
  "nbformat_minor": 0,
  "metadata": {
    "colab": {
      "name": "KG_manipulation.ipynb",
      "provenance": [],
      "collapsed_sections": [],
      "toc_visible": true,
      "mount_file_id": "1jvsidVvRFA-ftkZi6AUCG6hYYz2ZtySP",
      "authorship_tag": "ABX9TyOIV4tqgMgVn+bpagQ5TAWz",
      "include_colab_link": true
    },
    "kernelspec": {
      "name": "python3",
      "display_name": "Python 3"
    }
  },
  "cells": [
    {
      "cell_type": "markdown",
      "metadata": {
        "id": "view-in-github",
        "colab_type": "text"
      },
      "source": [
        "<a href=\"https://colab.research.google.com/github/Mohit-Mithra/ceiling-graph/blob/main/KG_manipulation.ipynb\" target=\"_parent\"><img src=\"https://colab.research.google.com/assets/colab-badge.svg\" alt=\"Open In Colab\"/></a>"
      ]
    },
    {
      "cell_type": "code",
      "metadata": {
        "colab": {
          "base_uri": "https://localhost:8080/"
        },
        "id": "fY5C1X-Eb_Te",
        "outputId": "3be12578-a40e-4892-b973-b4169e516864"
      },
      "source": [
        "%cd \"/content/drive/MyDrive/ceiling-graphs/TGN_ablation/Knowledge Graph/knowledge graph\""
      ],
      "execution_count": null,
      "outputs": [
        {
          "output_type": "stream",
          "text": [
            "/content/drive/MyDrive/ceiling-graphs/TGN_ablation/Knowledge Graph/knowledge graph\n"
          ],
          "name": "stdout"
        }
      ]
    },
    {
      "cell_type": "code",
      "metadata": {
        "colab": {
          "base_uri": "https://localhost:8080/"
        },
        "id": "tsSURpkwcMzn",
        "outputId": "01f18da0-aeab-401d-ed90-33b39fb95c54"
      },
      "source": [
        "!ls"
      ],
      "execution_count": null,
      "outputs": [
        {
          "output_type": "stream",
          "text": [
            "1995.csv  1996.csv  1997.csv  1998.csv\t1999.csv\n"
          ],
          "name": "stdout"
        }
      ]
    },
    {
      "cell_type": "code",
      "metadata": {
        "id": "hkl5RW3hbFsT"
      },
      "source": [
        "import pandas as pd\n",
        "import numpy as np\n",
        "import os"
      ],
      "execution_count": null,
      "outputs": []
    },
    {
      "cell_type": "markdown",
      "metadata": {
        "id": "pnLmgJH2caN_"
      },
      "source": [
        "# Appending datasets"
      ]
    },
    {
      "cell_type": "code",
      "metadata": {
        "colab": {
          "base_uri": "https://localhost:8080/",
          "height": 447
        },
        "id": "r8bh6m_0cOXF",
        "outputId": "5dae7127-92eb-4824-83d3-3d3b5044083b"
      },
      "source": [
        "df = pd.read_csv('1995.csv')\n",
        "for i in os.listdir(\"/content/drive/MyDrive/ceiling-graphs/TGN_ablation/Knowledge Graph/knowledge graph\"):\n",
        "  if (i == '1995.csv'):\n",
        "    continue\n",
        "  data = pd.read_csv(i)\n",
        "  df = pd.concat([df,data])\n",
        "\n",
        "df.head()"
      ],
      "execution_count": null,
      "outputs": [
        {
          "output_type": "execute_result",
          "data": {
            "text/html": [
              "<div>\n",
              "<style scoped>\n",
              "    .dataframe tbody tr th:only-of-type {\n",
              "        vertical-align: middle;\n",
              "    }\n",
              "\n",
              "    .dataframe tbody tr th {\n",
              "        vertical-align: top;\n",
              "    }\n",
              "\n",
              "    .dataframe thead th {\n",
              "        text-align: right;\n",
              "    }\n",
              "</style>\n",
              "<table border=\"1\" class=\"dataframe\">\n",
              "  <thead>\n",
              "    <tr style=\"text-align: right;\">\n",
              "      <th></th>\n",
              "      <th>Event ID</th>\n",
              "      <th>Event Date</th>\n",
              "      <th>Source Name</th>\n",
              "      <th>Source Sectors</th>\n",
              "      <th>Source Country</th>\n",
              "      <th>Event Text</th>\n",
              "      <th>CAMEO Code</th>\n",
              "      <th>Intensity</th>\n",
              "      <th>Target Name</th>\n",
              "      <th>Target Sectors</th>\n",
              "      <th>Target Country</th>\n",
              "      <th>Story ID</th>\n",
              "      <th>Sentence Number</th>\n",
              "      <th>Publisher</th>\n",
              "      <th>City</th>\n",
              "      <th>District</th>\n",
              "      <th>Province</th>\n",
              "      <th>Country</th>\n",
              "      <th>Latitude</th>\n",
              "      <th>Longitude</th>\n",
              "    </tr>\n",
              "  </thead>\n",
              "  <tbody>\n",
              "    <tr>\n",
              "      <th>0</th>\n",
              "      <td>926685</td>\n",
              "      <td>01-01-1995</td>\n",
              "      <td>Extremist (Russia)</td>\n",
              "      <td>Radicals / Extremists / Fundamentalists,Dissident</td>\n",
              "      <td>Russian Federation</td>\n",
              "      <td>Praise or endorse</td>\n",
              "      <td>51</td>\n",
              "      <td>3.4</td>\n",
              "      <td>Boris Yeltsin</td>\n",
              "      <td>Elite,Executive,Executive Office,Government</td>\n",
              "      <td>Russian Federation</td>\n",
              "      <td>28235806</td>\n",
              "      <td>5</td>\n",
              "      <td>The Toronto Star</td>\n",
              "      <td>Moscow</td>\n",
              "      <td>NaN</td>\n",
              "      <td>Moskva</td>\n",
              "      <td>Russian Federation</td>\n",
              "      <td>55.7522</td>\n",
              "      <td>37.6156</td>\n",
              "    </tr>\n",
              "    <tr>\n",
              "      <th>1</th>\n",
              "      <td>926687</td>\n",
              "      <td>01-01-1995</td>\n",
              "      <td>Government (Bosnia and Herzegovina)</td>\n",
              "      <td>Government</td>\n",
              "      <td>Bosnia and Herzegovina</td>\n",
              "      <td>Express intent to cooperate</td>\n",
              "      <td>30</td>\n",
              "      <td>4.0</td>\n",
              "      <td>Citizen (Serbia)</td>\n",
              "      <td>General Population / Civilian / Social,Social</td>\n",
              "      <td>Serbia</td>\n",
              "      <td>28235807</td>\n",
              "      <td>1</td>\n",
              "      <td>The Toronto Star</td>\n",
              "      <td>NaN</td>\n",
              "      <td>NaN</td>\n",
              "      <td>Bosnia</td>\n",
              "      <td>Bosnia and Herzegovina</td>\n",
              "      <td>44.0000</td>\n",
              "      <td>18.0000</td>\n",
              "    </tr>\n",
              "    <tr>\n",
              "      <th>2</th>\n",
              "      <td>926686</td>\n",
              "      <td>01-01-1995</td>\n",
              "      <td>Citizen (Serbia)</td>\n",
              "      <td>General Population / Civilian / Social,Social</td>\n",
              "      <td>Serbia</td>\n",
              "      <td>Express intent to cooperate</td>\n",
              "      <td>30</td>\n",
              "      <td>4.0</td>\n",
              "      <td>Government (Bosnia and Herzegovina)</td>\n",
              "      <td>Government</td>\n",
              "      <td>Bosnia and Herzegovina</td>\n",
              "      <td>28235807</td>\n",
              "      <td>1</td>\n",
              "      <td>The Toronto Star</td>\n",
              "      <td>NaN</td>\n",
              "      <td>NaN</td>\n",
              "      <td>Bosnia</td>\n",
              "      <td>Bosnia and Herzegovina</td>\n",
              "      <td>44.0000</td>\n",
              "      <td>18.0000</td>\n",
              "    </tr>\n",
              "    <tr>\n",
              "      <th>3</th>\n",
              "      <td>926688</td>\n",
              "      <td>01-01-1995</td>\n",
              "      <td>Canada</td>\n",
              "      <td>NaN</td>\n",
              "      <td>Canada</td>\n",
              "      <td>Praise or endorse</td>\n",
              "      <td>51</td>\n",
              "      <td>3.4</td>\n",
              "      <td>City Mayor (Canada)</td>\n",
              "      <td>Government,Local,Municipal</td>\n",
              "      <td>Canada</td>\n",
              "      <td>28235809</td>\n",
              "      <td>3</td>\n",
              "      <td>The Toronto Star</td>\n",
              "      <td>NaN</td>\n",
              "      <td>NaN</td>\n",
              "      <td>Ontario</td>\n",
              "      <td>Canada</td>\n",
              "      <td>49.2501</td>\n",
              "      <td>-84.4998</td>\n",
              "    </tr>\n",
              "    <tr>\n",
              "      <th>4</th>\n",
              "      <td>926689</td>\n",
              "      <td>01-01-1995</td>\n",
              "      <td>Lawyer/Attorney (Canada)</td>\n",
              "      <td>Legal,Social</td>\n",
              "      <td>Canada</td>\n",
              "      <td>Arrest, detain, or charge with legal action</td>\n",
              "      <td>173</td>\n",
              "      <td>-5.0</td>\n",
              "      <td>Police (Canada)</td>\n",
              "      <td>Government,Police</td>\n",
              "      <td>Canada</td>\n",
              "      <td>28235964</td>\n",
              "      <td>1</td>\n",
              "      <td>The Toronto Star</td>\n",
              "      <td>Montreal</td>\n",
              "      <td>Montreal</td>\n",
              "      <td>Quebec</td>\n",
              "      <td>Canada</td>\n",
              "      <td>45.5088</td>\n",
              "      <td>-73.5878</td>\n",
              "    </tr>\n",
              "  </tbody>\n",
              "</table>\n",
              "</div>"
            ],
            "text/plain": [
              "   Event ID  Event Date  ... Latitude Longitude\n",
              "0    926685  01-01-1995  ...  55.7522   37.6156\n",
              "1    926687  01-01-1995  ...  44.0000   18.0000\n",
              "2    926686  01-01-1995  ...  44.0000   18.0000\n",
              "3    926688  01-01-1995  ...  49.2501  -84.4998\n",
              "4    926689  01-01-1995  ...  45.5088  -73.5878\n",
              "\n",
              "[5 rows x 20 columns]"
            ]
          },
          "metadata": {
            "tags": []
          },
          "execution_count": 6
        }
      ]
    },
    {
      "cell_type": "code",
      "metadata": {
        "colab": {
          "base_uri": "https://localhost:8080/",
          "height": 869
        },
        "id": "0F4ViT3eelS3",
        "outputId": "91563b87-2cac-4d73-c9e1-bfa35aea1971"
      },
      "source": [
        "df"
      ],
      "execution_count": null,
      "outputs": [
        {
          "output_type": "execute_result",
          "data": {
            "text/html": [
              "<div>\n",
              "<style scoped>\n",
              "    .dataframe tbody tr th:only-of-type {\n",
              "        vertical-align: middle;\n",
              "    }\n",
              "\n",
              "    .dataframe tbody tr th {\n",
              "        vertical-align: top;\n",
              "    }\n",
              "\n",
              "    .dataframe thead th {\n",
              "        text-align: right;\n",
              "    }\n",
              "</style>\n",
              "<table border=\"1\" class=\"dataframe\">\n",
              "  <thead>\n",
              "    <tr style=\"text-align: right;\">\n",
              "      <th></th>\n",
              "      <th>Event ID</th>\n",
              "      <th>Event Date</th>\n",
              "      <th>Source Name</th>\n",
              "      <th>Source Sectors</th>\n",
              "      <th>Source Country</th>\n",
              "      <th>Event Text</th>\n",
              "      <th>CAMEO Code</th>\n",
              "      <th>Intensity</th>\n",
              "      <th>Target Name</th>\n",
              "      <th>Target Sectors</th>\n",
              "      <th>Target Country</th>\n",
              "      <th>Story ID</th>\n",
              "      <th>Sentence Number</th>\n",
              "      <th>Publisher</th>\n",
              "      <th>City</th>\n",
              "      <th>District</th>\n",
              "      <th>Province</th>\n",
              "      <th>Country</th>\n",
              "      <th>Latitude</th>\n",
              "      <th>Longitude</th>\n",
              "    </tr>\n",
              "  </thead>\n",
              "  <tbody>\n",
              "    <tr>\n",
              "      <th>0</th>\n",
              "      <td>926685</td>\n",
              "      <td>01-01-1995</td>\n",
              "      <td>Extremist (Russia)</td>\n",
              "      <td>Radicals / Extremists / Fundamentalists,Dissident</td>\n",
              "      <td>Russian Federation</td>\n",
              "      <td>Praise or endorse</td>\n",
              "      <td>51</td>\n",
              "      <td>3.4</td>\n",
              "      <td>Boris Yeltsin</td>\n",
              "      <td>Elite,Executive,Executive Office,Government</td>\n",
              "      <td>Russian Federation</td>\n",
              "      <td>28235806</td>\n",
              "      <td>5</td>\n",
              "      <td>The Toronto Star</td>\n",
              "      <td>Moscow</td>\n",
              "      <td>NaN</td>\n",
              "      <td>Moskva</td>\n",
              "      <td>Russian Federation</td>\n",
              "      <td>55.75220</td>\n",
              "      <td>37.61560</td>\n",
              "    </tr>\n",
              "    <tr>\n",
              "      <th>1</th>\n",
              "      <td>926687</td>\n",
              "      <td>01-01-1995</td>\n",
              "      <td>Government (Bosnia and Herzegovina)</td>\n",
              "      <td>Government</td>\n",
              "      <td>Bosnia and Herzegovina</td>\n",
              "      <td>Express intent to cooperate</td>\n",
              "      <td>30</td>\n",
              "      <td>4.0</td>\n",
              "      <td>Citizen (Serbia)</td>\n",
              "      <td>General Population / Civilian / Social,Social</td>\n",
              "      <td>Serbia</td>\n",
              "      <td>28235807</td>\n",
              "      <td>1</td>\n",
              "      <td>The Toronto Star</td>\n",
              "      <td>NaN</td>\n",
              "      <td>NaN</td>\n",
              "      <td>Bosnia</td>\n",
              "      <td>Bosnia and Herzegovina</td>\n",
              "      <td>44.00000</td>\n",
              "      <td>18.00000</td>\n",
              "    </tr>\n",
              "    <tr>\n",
              "      <th>2</th>\n",
              "      <td>926686</td>\n",
              "      <td>01-01-1995</td>\n",
              "      <td>Citizen (Serbia)</td>\n",
              "      <td>General Population / Civilian / Social,Social</td>\n",
              "      <td>Serbia</td>\n",
              "      <td>Express intent to cooperate</td>\n",
              "      <td>30</td>\n",
              "      <td>4.0</td>\n",
              "      <td>Government (Bosnia and Herzegovina)</td>\n",
              "      <td>Government</td>\n",
              "      <td>Bosnia and Herzegovina</td>\n",
              "      <td>28235807</td>\n",
              "      <td>1</td>\n",
              "      <td>The Toronto Star</td>\n",
              "      <td>NaN</td>\n",
              "      <td>NaN</td>\n",
              "      <td>Bosnia</td>\n",
              "      <td>Bosnia and Herzegovina</td>\n",
              "      <td>44.00000</td>\n",
              "      <td>18.00000</td>\n",
              "    </tr>\n",
              "    <tr>\n",
              "      <th>3</th>\n",
              "      <td>926688</td>\n",
              "      <td>01-01-1995</td>\n",
              "      <td>Canada</td>\n",
              "      <td>NaN</td>\n",
              "      <td>Canada</td>\n",
              "      <td>Praise or endorse</td>\n",
              "      <td>51</td>\n",
              "      <td>3.4</td>\n",
              "      <td>City Mayor (Canada)</td>\n",
              "      <td>Government,Local,Municipal</td>\n",
              "      <td>Canada</td>\n",
              "      <td>28235809</td>\n",
              "      <td>3</td>\n",
              "      <td>The Toronto Star</td>\n",
              "      <td>NaN</td>\n",
              "      <td>NaN</td>\n",
              "      <td>Ontario</td>\n",
              "      <td>Canada</td>\n",
              "      <td>49.25010</td>\n",
              "      <td>-84.49980</td>\n",
              "    </tr>\n",
              "    <tr>\n",
              "      <th>4</th>\n",
              "      <td>926689</td>\n",
              "      <td>01-01-1995</td>\n",
              "      <td>Lawyer/Attorney (Canada)</td>\n",
              "      <td>Legal,Social</td>\n",
              "      <td>Canada</td>\n",
              "      <td>Arrest, detain, or charge with legal action</td>\n",
              "      <td>173</td>\n",
              "      <td>-5.0</td>\n",
              "      <td>Police (Canada)</td>\n",
              "      <td>Government,Police</td>\n",
              "      <td>Canada</td>\n",
              "      <td>28235964</td>\n",
              "      <td>1</td>\n",
              "      <td>The Toronto Star</td>\n",
              "      <td>Montreal</td>\n",
              "      <td>Montreal</td>\n",
              "      <td>Quebec</td>\n",
              "      <td>Canada</td>\n",
              "      <td>45.50880</td>\n",
              "      <td>-73.58780</td>\n",
              "    </tr>\n",
              "    <tr>\n",
              "      <th>...</th>\n",
              "      <td>...</td>\n",
              "      <td>...</td>\n",
              "      <td>...</td>\n",
              "      <td>...</td>\n",
              "      <td>...</td>\n",
              "      <td>...</td>\n",
              "      <td>...</td>\n",
              "      <td>...</td>\n",
              "      <td>...</td>\n",
              "      <td>...</td>\n",
              "      <td>...</td>\n",
              "      <td>...</td>\n",
              "      <td>...</td>\n",
              "      <td>...</td>\n",
              "      <td>...</td>\n",
              "      <td>...</td>\n",
              "      <td>...</td>\n",
              "      <td>...</td>\n",
              "      <td>...</td>\n",
              "      <td>...</td>\n",
              "    </tr>\n",
              "    <tr>\n",
              "      <th>545097</th>\n",
              "      <td>2546469</td>\n",
              "      <td>31-12-1999</td>\n",
              "      <td>Henri Konan Bedie</td>\n",
              "      <td>(National) Minor Party,Elite,Parties</td>\n",
              "      <td>Cote d'Ivoire</td>\n",
              "      <td>Threaten</td>\n",
              "      <td>130</td>\n",
              "      <td>-4.4</td>\n",
              "      <td>Presidential Candidate (Cote d'Ivoire)</td>\n",
              "      <td>Parties</td>\n",
              "      <td>Cote d'Ivoire</td>\n",
              "      <td>33892128</td>\n",
              "      <td>1</td>\n",
              "      <td>Le Monde</td>\n",
              "      <td>Abidjan</td>\n",
              "      <td>NaN</td>\n",
              "      <td>Lagunes</td>\n",
              "      <td>Cote d'Ivoire</td>\n",
              "      <td>5.30966</td>\n",
              "      <td>-4.01266</td>\n",
              "    </tr>\n",
              "    <tr>\n",
              "      <th>545098</th>\n",
              "      <td>2546470</td>\n",
              "      <td>31-12-1999</td>\n",
              "      <td>Citizen (Cote d'Ivoire)</td>\n",
              "      <td>Social,General Population / Civilian / Social</td>\n",
              "      <td>Cote d'Ivoire</td>\n",
              "      <td>Make an appeal or request</td>\n",
              "      <td>20</td>\n",
              "      <td>3.0</td>\n",
              "      <td>Activist (Cote d'Ivoire)</td>\n",
              "      <td>Nongovernmental Organizations / Activists,Nong...</td>\n",
              "      <td>Cote d'Ivoire</td>\n",
              "      <td>33892288</td>\n",
              "      <td>5</td>\n",
              "      <td>Le Monde</td>\n",
              "      <td>Abidjan</td>\n",
              "      <td>NaN</td>\n",
              "      <td>Lagunes</td>\n",
              "      <td>Cote d'Ivoire</td>\n",
              "      <td>5.30966</td>\n",
              "      <td>-4.01266</td>\n",
              "    </tr>\n",
              "    <tr>\n",
              "      <th>545099</th>\n",
              "      <td>2546471</td>\n",
              "      <td>31-12-1999</td>\n",
              "      <td>Muslim (Indonesia)</td>\n",
              "      <td>National Religious,Social,International Religi...</td>\n",
              "      <td>Indonesia</td>\n",
              "      <td>Use conventional military force</td>\n",
              "      <td>190</td>\n",
              "      <td>-10.0</td>\n",
              "      <td>Christian (Indonesia)</td>\n",
              "      <td>National Religious,Christian,Social,Internatio...</td>\n",
              "      <td>Indonesia</td>\n",
              "      <td>33892329</td>\n",
              "      <td>2</td>\n",
              "      <td>Le Monde</td>\n",
              "      <td>NaN</td>\n",
              "      <td>NaN</td>\n",
              "      <td>Provinsi Maluku</td>\n",
              "      <td>Indonesia</td>\n",
              "      <td>-3.23846</td>\n",
              "      <td>130.14500</td>\n",
              "    </tr>\n",
              "    <tr>\n",
              "      <th>545100</th>\n",
              "      <td>2546472</td>\n",
              "      <td>31-12-1999</td>\n",
              "      <td>Christian (Indonesia)</td>\n",
              "      <td>National Religious,Christian,Social,Internatio...</td>\n",
              "      <td>Indonesia</td>\n",
              "      <td>Use conventional military force</td>\n",
              "      <td>190</td>\n",
              "      <td>-10.0</td>\n",
              "      <td>Muslim (Indonesia)</td>\n",
              "      <td>National Religious,Social,International Religi...</td>\n",
              "      <td>Indonesia</td>\n",
              "      <td>33892329</td>\n",
              "      <td>2</td>\n",
              "      <td>Le Monde</td>\n",
              "      <td>NaN</td>\n",
              "      <td>NaN</td>\n",
              "      <td>Provinsi Maluku</td>\n",
              "      <td>Indonesia</td>\n",
              "      <td>-3.23846</td>\n",
              "      <td>130.14500</td>\n",
              "    </tr>\n",
              "    <tr>\n",
              "      <th>545101</th>\n",
              "      <td>2546473</td>\n",
              "      <td>31-12-1999</td>\n",
              "      <td>Head of Government (Germany)</td>\n",
              "      <td>Executive,Government,Executive Office</td>\n",
              "      <td>Germany</td>\n",
              "      <td>Decline comment</td>\n",
              "      <td>11</td>\n",
              "      <td>-0.1</td>\n",
              "      <td>Citizen (Germany)</td>\n",
              "      <td>General Population / Civilian / Social,Social</td>\n",
              "      <td>Germany</td>\n",
              "      <td>33892351</td>\n",
              "      <td>2</td>\n",
              "      <td>Le Monde</td>\n",
              "      <td>NaN</td>\n",
              "      <td>NaN</td>\n",
              "      <td>NaN</td>\n",
              "      <td>Germany</td>\n",
              "      <td>52.52440</td>\n",
              "      <td>13.41050</td>\n",
              "    </tr>\n",
              "  </tbody>\n",
              "</table>\n",
              "<p>1551424 rows × 20 columns</p>\n",
              "</div>"
            ],
            "text/plain": [
              "        Event ID  Event Date  ...  Latitude  Longitude\n",
              "0         926685  01-01-1995  ...  55.75220   37.61560\n",
              "1         926687  01-01-1995  ...  44.00000   18.00000\n",
              "2         926686  01-01-1995  ...  44.00000   18.00000\n",
              "3         926688  01-01-1995  ...  49.25010  -84.49980\n",
              "4         926689  01-01-1995  ...  45.50880  -73.58780\n",
              "...          ...         ...  ...       ...        ...\n",
              "545097   2546469  31-12-1999  ...   5.30966   -4.01266\n",
              "545098   2546470  31-12-1999  ...   5.30966   -4.01266\n",
              "545099   2546471  31-12-1999  ...  -3.23846  130.14500\n",
              "545100   2546472  31-12-1999  ...  -3.23846  130.14500\n",
              "545101   2546473  31-12-1999  ...  52.52440   13.41050\n",
              "\n",
              "[1551424 rows x 20 columns]"
            ]
          },
          "metadata": {
            "tags": []
          },
          "execution_count": 7
        }
      ]
    },
    {
      "cell_type": "code",
      "metadata": {
        "id": "B53uGKUFes3F"
      },
      "source": [
        "unique_val_sources = df['Source Name'].unique()"
      ],
      "execution_count": null,
      "outputs": []
    },
    {
      "cell_type": "code",
      "metadata": {
        "colab": {
          "base_uri": "https://localhost:8080/"
        },
        "id": "8NnCMZ7wf0DX",
        "outputId": "e8da47aa-307b-48d9-e92f-6a341a666412"
      },
      "source": [
        "len(unique_val_sources)"
      ],
      "execution_count": null,
      "outputs": [
        {
          "output_type": "execute_result",
          "data": {
            "text/plain": [
              "28832"
            ]
          },
          "metadata": {
            "tags": []
          },
          "execution_count": 9
        }
      ]
    },
    {
      "cell_type": "code",
      "metadata": {
        "id": "EqJNfBt1f70t"
      },
      "source": [
        "unique_val_targets = df['Target Name'].unique()"
      ],
      "execution_count": null,
      "outputs": []
    },
    {
      "cell_type": "code",
      "metadata": {
        "colab": {
          "base_uri": "https://localhost:8080/"
        },
        "id": "78NM1b8GgGXC",
        "outputId": "f3a86700-125d-438a-bfa3-7dcd727bb024"
      },
      "source": [
        "len(unique_val_targets)"
      ],
      "execution_count": null,
      "outputs": [
        {
          "output_type": "execute_result",
          "data": {
            "text/plain": [
              "27316"
            ]
          },
          "metadata": {
            "tags": []
          },
          "execution_count": 11
        }
      ]
    },
    {
      "cell_type": "code",
      "metadata": {
        "colab": {
          "base_uri": "https://localhost:8080/"
        },
        "id": "p-7-j-efn1WP",
        "outputId": "2c7827b8-936a-4a07-b653-569b211f37c1"
      },
      "source": [
        "total = list(unique_val_sources) + list(unique_val_targets)\n",
        "len(total)"
      ],
      "execution_count": null,
      "outputs": [
        {
          "output_type": "execute_result",
          "data": {
            "text/plain": [
              "56148"
            ]
          },
          "metadata": {
            "tags": []
          },
          "execution_count": 12
        }
      ]
    },
    {
      "cell_type": "code",
      "metadata": {
        "colab": {
          "base_uri": "https://localhost:8080/"
        },
        "id": "5HpQDoE5o9bV",
        "outputId": "92863f8d-d819-4512-98c0-b96a6438279b"
      },
      "source": [
        "total_unique = pd.unique(total).tolist()\n",
        "len(total_unique)"
      ],
      "execution_count": null,
      "outputs": [
        {
          "output_type": "execute_result",
          "data": {
            "text/plain": [
              "33942"
            ]
          },
          "metadata": {
            "tags": []
          },
          "execution_count": 13
        }
      ]
    },
    {
      "cell_type": "code",
      "metadata": {
        "colab": {
          "base_uri": "https://localhost:8080/"
        },
        "id": "-5I6MciQgJY6",
        "outputId": "692508b2-2699-48e7-d82c-03f9c4ea30a1"
      },
      "source": [
        "df.columns"
      ],
      "execution_count": null,
      "outputs": [
        {
          "output_type": "execute_result",
          "data": {
            "text/plain": [
              "Index(['Event ID', 'Event Date', 'Source Name', 'Source Sectors',\n",
              "       'Source Country', 'Event Text', 'CAMEO Code', 'Intensity',\n",
              "       'Target Name', 'Target Sectors', 'Target Country', 'Story ID',\n",
              "       'Sentence Number', 'Publisher', 'City', 'District', 'Province',\n",
              "       'Country', 'Latitude', 'Longitude'],\n",
              "      dtype='object')"
            ]
          },
          "metadata": {
            "tags": []
          },
          "execution_count": 14
        }
      ]
    },
    {
      "cell_type": "code",
      "metadata": {
        "id": "ztMTtJ5rhw45"
      },
      "source": [
        "df = df.fillna(0)\n",
        "df.to_csv('data_full.csv')"
      ],
      "execution_count": null,
      "outputs": []
    },
    {
      "cell_type": "code",
      "metadata": {
        "colab": {
          "base_uri": "https://localhost:8080/"
        },
        "id": "CA3PZJ7jg0yY",
        "outputId": "7aeb1fd9-5305-422e-bbcf-4a8914d55460"
      },
      "source": [
        "df.info()"
      ],
      "execution_count": null,
      "outputs": [
        {
          "output_type": "stream",
          "text": [
            "<class 'pandas.core.frame.DataFrame'>\n",
            "Int64Index: 1551424 entries, 0 to 545101\n",
            "Data columns (total 20 columns):\n",
            " #   Column           Non-Null Count    Dtype  \n",
            "---  ------           --------------    -----  \n",
            " 0   Event ID         1551424 non-null  int64  \n",
            " 1   Event Date       1551424 non-null  object \n",
            " 2   Source Name      1551424 non-null  object \n",
            " 3   Source Sectors   1551424 non-null  object \n",
            " 4   Source Country   1551424 non-null  object \n",
            " 5   Event Text       1551424 non-null  object \n",
            " 6   CAMEO Code       1551424 non-null  int64  \n",
            " 7   Intensity        1551424 non-null  float64\n",
            " 8   Target Name      1551424 non-null  object \n",
            " 9   Target Sectors   1551424 non-null  object \n",
            " 10  Target Country   1551424 non-null  object \n",
            " 11  Story ID         1551424 non-null  int64  \n",
            " 12  Sentence Number  1551424 non-null  int64  \n",
            " 13  Publisher        1551424 non-null  object \n",
            " 14  City             1551424 non-null  object \n",
            " 15  District         1551424 non-null  object \n",
            " 16  Province         1551424 non-null  object \n",
            " 17  Country          1551424 non-null  object \n",
            " 18  Latitude         1551424 non-null  float64\n",
            " 19  Longitude        1551424 non-null  float64\n",
            "dtypes: float64(3), int64(4), object(13)\n",
            "memory usage: 248.6+ MB\n"
          ],
          "name": "stdout"
        }
      ]
    },
    {
      "cell_type": "code",
      "metadata": {
        "id": "JxqIgOgai2YI"
      },
      "source": [
        "data_chosen = df[['Event Date','Source Name', 'Intensity','Target Name','Source Country','Target Country','Country','CAMEO Code','Source Sectors','Target Sectors']]"
      ],
      "execution_count": null,
      "outputs": []
    },
    {
      "cell_type": "code",
      "metadata": {
        "colab": {
          "base_uri": "https://localhost:8080/",
          "height": 817
        },
        "id": "dX3O9HNfk7nQ",
        "outputId": "2e7c9952-c39d-4f8b-b3ed-2d447e57bd72"
      },
      "source": [
        "data_chosen"
      ],
      "execution_count": null,
      "outputs": [
        {
          "output_type": "execute_result",
          "data": {
            "text/html": [
              "<div>\n",
              "<style scoped>\n",
              "    .dataframe tbody tr th:only-of-type {\n",
              "        vertical-align: middle;\n",
              "    }\n",
              "\n",
              "    .dataframe tbody tr th {\n",
              "        vertical-align: top;\n",
              "    }\n",
              "\n",
              "    .dataframe thead th {\n",
              "        text-align: right;\n",
              "    }\n",
              "</style>\n",
              "<table border=\"1\" class=\"dataframe\">\n",
              "  <thead>\n",
              "    <tr style=\"text-align: right;\">\n",
              "      <th></th>\n",
              "      <th>Event Date</th>\n",
              "      <th>Source Name</th>\n",
              "      <th>Intensity</th>\n",
              "      <th>Target Name</th>\n",
              "      <th>Source Country</th>\n",
              "      <th>Target Country</th>\n",
              "      <th>Country</th>\n",
              "      <th>CAMEO Code</th>\n",
              "      <th>Source Sectors</th>\n",
              "      <th>Target Sectors</th>\n",
              "    </tr>\n",
              "  </thead>\n",
              "  <tbody>\n",
              "    <tr>\n",
              "      <th>0</th>\n",
              "      <td>01-01-1995</td>\n",
              "      <td>Extremist (Russia)</td>\n",
              "      <td>3.4</td>\n",
              "      <td>Boris Yeltsin</td>\n",
              "      <td>Russian Federation</td>\n",
              "      <td>Russian Federation</td>\n",
              "      <td>Russian Federation</td>\n",
              "      <td>51</td>\n",
              "      <td>Radicals / Extremists / Fundamentalists,Dissident</td>\n",
              "      <td>Elite,Executive,Executive Office,Government</td>\n",
              "    </tr>\n",
              "    <tr>\n",
              "      <th>1</th>\n",
              "      <td>01-01-1995</td>\n",
              "      <td>Government (Bosnia and Herzegovina)</td>\n",
              "      <td>4.0</td>\n",
              "      <td>Citizen (Serbia)</td>\n",
              "      <td>Bosnia and Herzegovina</td>\n",
              "      <td>Serbia</td>\n",
              "      <td>Bosnia and Herzegovina</td>\n",
              "      <td>30</td>\n",
              "      <td>Government</td>\n",
              "      <td>General Population / Civilian / Social,Social</td>\n",
              "    </tr>\n",
              "    <tr>\n",
              "      <th>2</th>\n",
              "      <td>01-01-1995</td>\n",
              "      <td>Citizen (Serbia)</td>\n",
              "      <td>4.0</td>\n",
              "      <td>Government (Bosnia and Herzegovina)</td>\n",
              "      <td>Serbia</td>\n",
              "      <td>Bosnia and Herzegovina</td>\n",
              "      <td>Bosnia and Herzegovina</td>\n",
              "      <td>30</td>\n",
              "      <td>General Population / Civilian / Social,Social</td>\n",
              "      <td>Government</td>\n",
              "    </tr>\n",
              "    <tr>\n",
              "      <th>3</th>\n",
              "      <td>01-01-1995</td>\n",
              "      <td>Canada</td>\n",
              "      <td>3.4</td>\n",
              "      <td>City Mayor (Canada)</td>\n",
              "      <td>Canada</td>\n",
              "      <td>Canada</td>\n",
              "      <td>Canada</td>\n",
              "      <td>51</td>\n",
              "      <td>0</td>\n",
              "      <td>Government,Local,Municipal</td>\n",
              "    </tr>\n",
              "    <tr>\n",
              "      <th>4</th>\n",
              "      <td>01-01-1995</td>\n",
              "      <td>Lawyer/Attorney (Canada)</td>\n",
              "      <td>-5.0</td>\n",
              "      <td>Police (Canada)</td>\n",
              "      <td>Canada</td>\n",
              "      <td>Canada</td>\n",
              "      <td>Canada</td>\n",
              "      <td>173</td>\n",
              "      <td>Legal,Social</td>\n",
              "      <td>Government,Police</td>\n",
              "    </tr>\n",
              "    <tr>\n",
              "      <th>...</th>\n",
              "      <td>...</td>\n",
              "      <td>...</td>\n",
              "      <td>...</td>\n",
              "      <td>...</td>\n",
              "      <td>...</td>\n",
              "      <td>...</td>\n",
              "      <td>...</td>\n",
              "      <td>...</td>\n",
              "      <td>...</td>\n",
              "      <td>...</td>\n",
              "    </tr>\n",
              "    <tr>\n",
              "      <th>545097</th>\n",
              "      <td>31-12-1999</td>\n",
              "      <td>Henri Konan Bedie</td>\n",
              "      <td>-4.4</td>\n",
              "      <td>Presidential Candidate (Cote d'Ivoire)</td>\n",
              "      <td>Cote d'Ivoire</td>\n",
              "      <td>Cote d'Ivoire</td>\n",
              "      <td>Cote d'Ivoire</td>\n",
              "      <td>130</td>\n",
              "      <td>(National) Minor Party,Elite,Parties</td>\n",
              "      <td>Parties</td>\n",
              "    </tr>\n",
              "    <tr>\n",
              "      <th>545098</th>\n",
              "      <td>31-12-1999</td>\n",
              "      <td>Citizen (Cote d'Ivoire)</td>\n",
              "      <td>3.0</td>\n",
              "      <td>Activist (Cote d'Ivoire)</td>\n",
              "      <td>Cote d'Ivoire</td>\n",
              "      <td>Cote d'Ivoire</td>\n",
              "      <td>Cote d'Ivoire</td>\n",
              "      <td>20</td>\n",
              "      <td>Social,General Population / Civilian / Social</td>\n",
              "      <td>Nongovernmental Organizations / Activists,Nong...</td>\n",
              "    </tr>\n",
              "    <tr>\n",
              "      <th>545099</th>\n",
              "      <td>31-12-1999</td>\n",
              "      <td>Muslim (Indonesia)</td>\n",
              "      <td>-10.0</td>\n",
              "      <td>Christian (Indonesia)</td>\n",
              "      <td>Indonesia</td>\n",
              "      <td>Indonesia</td>\n",
              "      <td>Indonesia</td>\n",
              "      <td>190</td>\n",
              "      <td>National Religious,Social,International Religi...</td>\n",
              "      <td>National Religious,Christian,Social,Internatio...</td>\n",
              "    </tr>\n",
              "    <tr>\n",
              "      <th>545100</th>\n",
              "      <td>31-12-1999</td>\n",
              "      <td>Christian (Indonesia)</td>\n",
              "      <td>-10.0</td>\n",
              "      <td>Muslim (Indonesia)</td>\n",
              "      <td>Indonesia</td>\n",
              "      <td>Indonesia</td>\n",
              "      <td>Indonesia</td>\n",
              "      <td>190</td>\n",
              "      <td>National Religious,Christian,Social,Internatio...</td>\n",
              "      <td>National Religious,Social,International Religi...</td>\n",
              "    </tr>\n",
              "    <tr>\n",
              "      <th>545101</th>\n",
              "      <td>31-12-1999</td>\n",
              "      <td>Head of Government (Germany)</td>\n",
              "      <td>-0.1</td>\n",
              "      <td>Citizen (Germany)</td>\n",
              "      <td>Germany</td>\n",
              "      <td>Germany</td>\n",
              "      <td>Germany</td>\n",
              "      <td>11</td>\n",
              "      <td>Executive,Government,Executive Office</td>\n",
              "      <td>General Population / Civilian / Social,Social</td>\n",
              "    </tr>\n",
              "  </tbody>\n",
              "</table>\n",
              "<p>1551424 rows × 10 columns</p>\n",
              "</div>"
            ],
            "text/plain": [
              "        Event Date  ...                                     Target Sectors\n",
              "0       01-01-1995  ...        Elite,Executive,Executive Office,Government\n",
              "1       01-01-1995  ...      General Population / Civilian / Social,Social\n",
              "2       01-01-1995  ...                                         Government\n",
              "3       01-01-1995  ...                         Government,Local,Municipal\n",
              "4       01-01-1995  ...                                  Government,Police\n",
              "...            ...  ...                                                ...\n",
              "545097  31-12-1999  ...                                            Parties\n",
              "545098  31-12-1999  ...  Nongovernmental Organizations / Activists,Nong...\n",
              "545099  31-12-1999  ...  National Religious,Christian,Social,Internatio...\n",
              "545100  31-12-1999  ...  National Religious,Social,International Religi...\n",
              "545101  31-12-1999  ...      General Population / Civilian / Social,Social\n",
              "\n",
              "[1551424 rows x 10 columns]"
            ]
          },
          "metadata": {
            "tags": []
          },
          "execution_count": 21
        }
      ]
    },
    {
      "cell_type": "code",
      "metadata": {
        "id": "yxi3vAQRlBG-"
      },
      "source": [
        "data_chosen.to_csv('data_chosen.csv')"
      ],
      "execution_count": null,
      "outputs": []
    },
    {
      "cell_type": "markdown",
      "metadata": {
        "id": "SJrnn12jlhuG"
      },
      "source": [
        "# Create graph style dataset"
      ]
    },
    {
      "cell_type": "code",
      "metadata": {
        "id": "CyrS9udTlx8p"
      },
      "source": [
        "source_node = []\n",
        "target_node = []\n",
        "for i in data_chosen['Source Name']:\n",
        "  index_source = total_unique.index(i)\n",
        "  source_node.append(index_source)\n",
        "\n",
        "print(source_node)\n",
        "print(len(source_node))"
      ],
      "execution_count": null,
      "outputs": []
    },
    {
      "cell_type": "code",
      "metadata": {
        "colab": {
          "base_uri": "https://localhost:8080/"
        },
        "id": "QNbLqvFwqBBI",
        "outputId": "378609e3-4a7a-4a59-b571-f80eaf757d21"
      },
      "source": [
        "len(source_node)"
      ],
      "execution_count": null,
      "outputs": [
        {
          "output_type": "execute_result",
          "data": {
            "text/plain": [
              "1551424"
            ]
          },
          "metadata": {
            "tags": []
          },
          "execution_count": 38
        }
      ]
    },
    {
      "cell_type": "code",
      "metadata": {
        "colab": {
          "base_uri": "https://localhost:8080/"
        },
        "id": "7KyBVRHnrcUD",
        "outputId": "9057a3b2-7268-4d9b-babb-43d97e9d532c"
      },
      "source": [
        "for i in data_chosen['Target Name']:\n",
        "  index_target = total_unique.index(i)\n",
        "  target_node.append(index_target)\n",
        "\n",
        "print(len(target_node))"
      ],
      "execution_count": null,
      "outputs": [
        {
          "output_type": "stream",
          "text": [
            "1551424\n"
          ],
          "name": "stdout"
        }
      ]
    },
    {
      "cell_type": "code",
      "metadata": {
        "colab": {
          "base_uri": "https://localhost:8080/"
        },
        "id": "JdntzLPWtJ5j",
        "outputId": "9345bee3-9146-4955-a86a-00c9a03e60d7"
      },
      "source": [
        "feature = np.array(data_chosen[['Intensity','Latitude','Longitude']])\n",
        "feature.shape"
      ],
      "execution_count": null,
      "outputs": [
        {
          "output_type": "execute_result",
          "data": {
            "text/plain": [
              "(1551424, 3)"
            ]
          },
          "metadata": {
            "tags": []
          },
          "execution_count": 47
        }
      ]
    },
    {
      "cell_type": "code",
      "metadata": {
        "id": "OCcPISmG136F"
      },
      "source": [
        "timestep = [x for x in range(1551424)]"
      ],
      "execution_count": null,
      "outputs": []
    },
    {
      "cell_type": "code",
      "metadata": {
        "colab": {
          "base_uri": "https://localhost:8080/"
        },
        "id": "Oi_HHf9o2PF0",
        "outputId": "4f9eaae1-495c-48e9-8081-d97ce365cbc1"
      },
      "source": [
        "features = []\n",
        "for i in feature:\n",
        "  features.append(i)\n",
        "\n",
        "len(features)"
      ],
      "execution_count": null,
      "outputs": [
        {
          "output_type": "execute_result",
          "data": {
            "text/plain": [
              "1551424"
            ]
          },
          "metadata": {
            "tags": []
          },
          "execution_count": 52
        }
      ]
    },
    {
      "cell_type": "code",
      "metadata": {
        "colab": {
          "base_uri": "https://localhost:8080/"
        },
        "id": "1mZLpsHj3ELB",
        "outputId": "7dd94751-3f69-43b0-a209-239ffe57bac6"
      },
      "source": [
        "data = np.array(timestep)\n",
        "columns = [np.array(source_node),np.array(target_node),np.array(features)]\n",
        "for j in range(len(columns)):\n",
        "  data = np.column_stack((data,columns[j]))\n",
        "\n",
        "print(data.shape)"
      ],
      "execution_count": null,
      "outputs": [
        {
          "output_type": "stream",
          "text": [
            "(1551424, 6)\n"
          ],
          "name": "stdout"
        }
      ]
    },
    {
      "cell_type": "code",
      "metadata": {
        "colab": {
          "base_uri": "https://localhost:8080/"
        },
        "id": "M755k85T4UYs",
        "outputId": "6c896285-2234-4a6d-a800-19a2fdb819f6"
      },
      "source": [
        "print(data[0])"
      ],
      "execution_count": null,
      "outputs": [
        {
          "output_type": "stream",
          "text": [
            "[ 0.      0.     72.      3.4    55.7522 37.6156]\n"
          ],
          "name": "stdout"
        }
      ]
    },
    {
      "cell_type": "code",
      "metadata": {
        "colab": {
          "base_uri": "https://localhost:8080/",
          "height": 202
        },
        "id": "2jqh9G4a2fWU",
        "outputId": "91746a1e-4bf2-4cf7-ba4e-bebd2873be7b"
      },
      "source": [
        "data_graph = pd.DataFrame(data = data)\n",
        "data_graph.head()"
      ],
      "execution_count": null,
      "outputs": [
        {
          "output_type": "execute_result",
          "data": {
            "text/html": [
              "<div>\n",
              "<style scoped>\n",
              "    .dataframe tbody tr th:only-of-type {\n",
              "        vertical-align: middle;\n",
              "    }\n",
              "\n",
              "    .dataframe tbody tr th {\n",
              "        vertical-align: top;\n",
              "    }\n",
              "\n",
              "    .dataframe thead th {\n",
              "        text-align: right;\n",
              "    }\n",
              "</style>\n",
              "<table border=\"1\" class=\"dataframe\">\n",
              "  <thead>\n",
              "    <tr style=\"text-align: right;\">\n",
              "      <th></th>\n",
              "      <th>0</th>\n",
              "      <th>1</th>\n",
              "      <th>2</th>\n",
              "      <th>3</th>\n",
              "      <th>4</th>\n",
              "      <th>5</th>\n",
              "    </tr>\n",
              "  </thead>\n",
              "  <tbody>\n",
              "    <tr>\n",
              "      <th>0</th>\n",
              "      <td>0.0</td>\n",
              "      <td>0.0</td>\n",
              "      <td>72.0</td>\n",
              "      <td>3.4</td>\n",
              "      <td>55.7522</td>\n",
              "      <td>37.6156</td>\n",
              "    </tr>\n",
              "    <tr>\n",
              "      <th>1</th>\n",
              "      <td>1.0</td>\n",
              "      <td>1.0</td>\n",
              "      <td>2.0</td>\n",
              "      <td>4.0</td>\n",
              "      <td>44.0000</td>\n",
              "      <td>18.0000</td>\n",
              "    </tr>\n",
              "    <tr>\n",
              "      <th>2</th>\n",
              "      <td>2.0</td>\n",
              "      <td>2.0</td>\n",
              "      <td>1.0</td>\n",
              "      <td>4.0</td>\n",
              "      <td>44.0000</td>\n",
              "      <td>18.0000</td>\n",
              "    </tr>\n",
              "    <tr>\n",
              "      <th>3</th>\n",
              "      <td>3.0</td>\n",
              "      <td>3.0</td>\n",
              "      <td>455.0</td>\n",
              "      <td>3.4</td>\n",
              "      <td>49.2501</td>\n",
              "      <td>-84.4998</td>\n",
              "    </tr>\n",
              "    <tr>\n",
              "      <th>4</th>\n",
              "      <td>4.0</td>\n",
              "      <td>4.0</td>\n",
              "      <td>36.0</td>\n",
              "      <td>-5.0</td>\n",
              "      <td>45.5088</td>\n",
              "      <td>-73.5878</td>\n",
              "    </tr>\n",
              "  </tbody>\n",
              "</table>\n",
              "</div>"
            ],
            "text/plain": [
              "     0    1      2    3        4        5\n",
              "0  0.0  0.0   72.0  3.4  55.7522  37.6156\n",
              "1  1.0  1.0    2.0  4.0  44.0000  18.0000\n",
              "2  2.0  2.0    1.0  4.0  44.0000  18.0000\n",
              "3  3.0  3.0  455.0  3.4  49.2501 -84.4998\n",
              "4  4.0  4.0   36.0 -5.0  45.5088 -73.5878"
            ]
          },
          "metadata": {
            "tags": []
          },
          "execution_count": 58
        }
      ]
    },
    {
      "cell_type": "code",
      "metadata": {
        "id": "ucy3aSeo4miR"
      },
      "source": [
        "data_graph.to_csv('data_graph.csv',header = ['Timestep','Source','Target','Intensity','Latitude','Longitude'] )"
      ],
      "execution_count": null,
      "outputs": []
    }
  ]
}