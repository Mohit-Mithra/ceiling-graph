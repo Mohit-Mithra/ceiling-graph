{
  "nbformat": 4,
  "nbformat_minor": 0,
  "metadata": {
    "colab": {
      "name": "graphmem.ipynb",
      "provenance": [],
      "collapsed_sections": [],
      "include_colab_link": true
    },
    "kernelspec": {
      "name": "python3",
      "display_name": "Python 3"
    },
    "accelerator": "GPU"
  },
  "cells": [
    {
      "cell_type": "markdown",
      "metadata": {
        "id": "view-in-github",
        "colab_type": "text"
      },
      "source": [
        "<a href=\"https://colab.research.google.com/github/Mohit-Mithra/ceiling-graph/blob/main/graphmem.ipynb\" target=\"_parent\"><img src=\"https://colab.research.google.com/assets/colab-badge.svg\" alt=\"Open In Colab\"/></a>"
      ]
    },
    {
      "cell_type": "code",
      "metadata": {
        "id": "U31K_Bgx60jC",
        "colab": {
          "base_uri": "https://localhost:8080/"
        },
        "outputId": "49e746a3-9f52-428f-e431-f909ed797f4e"
      },
      "source": [
        "\n",
        "afrom google.colab import drive\n",
        "drive.mount('/content/drive')\n",
        "!pwd\n",
        "%cd drive/My Drive/ceiling-graphs/TGN_ablation/TGN"
      ],
      "execution_count": null,
      "outputs": [
        {
          "output_type": "stream",
          "text": [
            "Mounted at /content/drive\n",
            "/content\n",
            "/content/drive/My Drive/ceiling-graphs/TGN_ablation/TGN\n"
          ],
          "name": "stdout"
        }
      ]
    },
    {
      "cell_type": "code",
      "metadata": {
        "colab": {
          "base_uri": "https://localhost:8080/"
        },
        "id": "1KLJmP1OsqnG",
        "outputId": "212d2a1b-2be9-4497-a906-a52c41b3e5eb"
      },
      "source": [
        "!python -c \"import torch; print(torch.version.cuda)\"\n",
        "!python -c \"import torch; print(torch.__version__)\""
      ],
      "execution_count": null,
      "outputs": [
        {
          "output_type": "stream",
          "text": [
            "10.1\n",
            "1.7.0+cu101\n"
          ],
          "name": "stdout"
        }
      ]
    },
    {
      "cell_type": "code",
      "metadata": {
        "id": "XAIfRD5Hs2zg"
      },
      "source": [
        "%%capture\n",
        "!pip install --no-index torch-scatter -f https://pytorch-geometric.com/whl/torch-1.7.0+cu101.html\n",
        "!pip install --no-index torch-sparse -f https://pytorch-geometric.com/whl/torch-1.7.0+cu101.html\n",
        "!pip install --no-index torch-cluster -f https://pytorch-geometric.com/whl/torch-1.7.0+cu101.html\n",
        "!pip install --no-index torch-spline-conv -f https://pytorch-geometric.com/whl/torch-1.7.0+cu101.html\n",
        "!!pip install git+https://github.com/rusty1s/pytorch_geometric.git"
      ],
      "execution_count": null,
      "outputs": []
    },
    {
      "cell_type": "code",
      "metadata": {
        "id": "jzHmwxfRtIlS"
      },
      "source": [
        "import os.path as osp\n",
        "\n",
        "import torch\n",
        "from torch.nn import Linear, LSTM\n",
        "from sklearn.metrics import average_precision_score, roc_auc_score, accuracy_score\n",
        "\n",
        "from torch_geometric.datasets import JODIEDataset\n",
        "from torch_geometric.nn import TGNMemory, TransformerConv\n",
        "from torch_geometric.nn.models.tgn import (LastNeighborLoader, IdentityMessage, LastAggregator)"
      ],
      "execution_count": null,
      "outputs": []
    },
    {
      "cell_type": "code",
      "metadata": {
        "id": "MRFX-QbhlKI1",
        "colab": {
          "base_uri": "https://localhost:8080/"
        },
        "outputId": "df656f0f-9a47-4e3e-8d9b-0d5b1ee2e160"
      },
      "source": [
        "import os.path as osp\n",
        "\n",
        "import torch\n",
        "import pandas\n",
        "from torch_geometric.data import InMemoryDataset, TemporalData, download_url\n",
        "\n",
        "class genericDataset(InMemoryDataset):\n",
        "\n",
        "    def __init__(self, root, name, transform=None, pre_transform=None):\n",
        "        self.name = name.lower()\n",
        "        assert self.name == 'random'\n",
        "\n",
        "        super(genericDataset, self).__init__(root, transform, pre_transform)\n",
        "        self.data, self.slices = torch.load(self.processed_paths[0])\n",
        "\n",
        "    @property\n",
        "    def raw_dir(self):\n",
        "        return osp.join(self.root, self.name, 'raw')\n",
        "\n",
        "    @property\n",
        "    def processed_dir(self):\n",
        "        return osp.join(self.root, self.name, 'processed')\n",
        "\n",
        "    @property\n",
        "    def raw_file_names(self):\n",
        "        return f'{self.name}.csv'\n",
        "\n",
        "    @property\n",
        "    def processed_file_names(self):\n",
        "        return 'data.pt'\n",
        "\n",
        "    def download(self):\n",
        "        pass\n",
        "\n",
        "    def process(self):\n",
        "        df = pandas.read_csv(self.raw_paths[0], skiprows=1, header=None)\n",
        "\n",
        "        src = torch.from_numpy(df.iloc[:, 0].values).to(torch.long)\n",
        "        dst = torch.from_numpy(df.iloc[:, 1].values).to(torch.long)\n",
        "        dst += int(src.max()) + 1\n",
        "        t = torch.from_numpy(df.iloc[:, 2].values).to(torch.long)\n",
        "        y = torch.from_numpy(df.iloc[:, 3].values).to(torch.long)\n",
        "        msg = torch.from_numpy(df.iloc[:, 4:].values).to(torch.float)\n",
        "\n",
        "        data = TemporalData(src=src, dst=dst, t=t, msg=msg, y=y)\n",
        "\n",
        "        if self.pre_transform is not None:\n",
        "            data = self.pre_transform(data)\n",
        "\n",
        "        torch.save(self.collate([data]), self.processed_paths[0])\n",
        "\n",
        "    def __repr__(self):\n",
        "        return f'{self.name.capitalize()}()'\n",
        "\n",
        "device = torch.device('cuda' if torch.cuda.is_available() else 'cpu')\n",
        "\n",
        "path = osp.join('..', 'data', 'JODIE')\n",
        "dataset = genericDataset(path, name='random')\n",
        "data = dataset[0].to(device)\n",
        "\n",
        "# Ensure to only sample actual destination nodes as negatives.\n",
        "min_dst_idx, max_dst_idx = int(data.dst.min()), int(data.dst.max())\n",
        "\n",
        "train_data, val_data, test_data = data.train_val_test_split(\n",
        "    val_ratio=0.15, test_ratio=0.15)\n",
        "\n",
        "neighbor_loader = LastNeighborLoader(data.num_nodes, size=10, device=device)"
      ],
      "execution_count": null,
      "outputs": [
        {
          "output_type": "stream",
          "text": [
            "Processing...\n",
            "Done!\n"
          ],
          "name": "stdout"
        }
      ]
    },
    {
      "cell_type": "code",
      "metadata": {
        "id": "QaDhC0v8ZTDF"
      },
      "source": [
        "# device = torch.device('cuda' if torch.cuda.is_available() else 'cpu')\n",
        "\n",
        "# path = osp.join('..', 'data', 'JODIE')\n",
        "# dataset = JODIEDataset(path, name='wikipedia')\n",
        "# data = dataset[0].to(device)\n",
        "\n",
        "# min_dst_idx, max_dst_idx = int(data.dst.min()), int(data.dst.max())\n",
        "\n",
        "# train_data, val_data, test_data = data.train_val_test_split(\n",
        "#     val_ratio=0.15, test_ratio=0.15)\n",
        "\n",
        "# neighbor_loader = LastNeighborLoader(data.num_nodes, size=10, device=device)"
      ],
      "execution_count": null,
      "outputs": []
    },
    {
      "cell_type": "code",
      "metadata": {
        "id": "NTI8Zw1H9cBH"
      },
      "source": [
        "from torch_geometric.nn.inits import zeros\n",
        "\n",
        "class global_memory(torch.nn.Module):\n",
        "    def __init__(self, in_channel, global_mem_dimension):\n",
        "        super(global_memory, self).__init__() \n",
        "        self.lin_global1 = Linear(in_channel*2, in_channel*2)\n",
        "        self.lin_global2 = Linear(in_channel*2, global_mem_dimension)\n",
        "\n",
        "    def forward(self, src_embedding, dst_embedding):\n",
        "        inp = torch.cat((src_embedding, dst_embedding), dim=1)\n",
        "        global_embedding = self.lin_global1(inp)\n",
        "        global_embedding = self.lin_global2(global_embedding)\n",
        "        # print('Global embedding shape')\n",
        "        # print(global_embedding.size())\n",
        "        return global_embedding\n",
        "\n",
        "\n",
        "class global_memory_lstm(torch.nn.Module):\n",
        "    def __init__(self, in_channel, hidden_dim, embedding_size):\n",
        "        super(global_memory_lstm, self).__init__() \n",
        "        self.hidden_dim = hidden_dim\n",
        "        self.h = torch.zeros(1, 1, hidden_dim).cuda()\n",
        "        self.c = torch.zeros(1, 1, hidden_dim).cuda()\n",
        "        self.lstm_out = torch.zeros(200, 1, hidden_dim).cuda()\n",
        "        self.lstm = LSTM(in_channel*2, hidden_dim)\n",
        "        self.linear = Linear(hidden_dim, embedding_size)\n",
        "\n",
        "    def forward(self, src_embedding, dst_embedding):\n",
        "        inp = torch.cat((src_embedding, dst_embedding), dim=1)\n",
        "        lstm_out, (self.h, self.c) = self.lstm(inp.view(len(inp), 1, -1), (self.h, self.c))\n",
        "        # print(lstm_out.size())\n",
        "        embedding = self.linear(lstm_out.view(len(inp), -1))\n",
        "        return embedding\n",
        "\n",
        "    def reset_state(self):\n",
        "        zeros(self.h)\n",
        "        zeros(self.c)\n",
        "        zeros(self.lstm_out)\n",
        "\n",
        "    def detach(self):\n",
        "        self.h.detach_()\n",
        "        self.c.detach_()\n",
        "        self.lstm_out.detach_()\n",
        "\n",
        "\n",
        "class global_lstmcell(torch.nn.Module):\n",
        "    def __init__(self, in_channel, hidden_dim, embedding_size):\n",
        "        super(global_lstmcell, self).__init__() \n",
        "        self.hidden_dim = hidden_dim\n",
        "        self.h = torch.zeros(1, hidden_dim).cuda()\n",
        "        self.gru = torch.nn.GRUCell(in_channel*2, hidden_dim)\n",
        "        self.linear = Linear(hidden_dim, embedding_size)\n",
        "\n",
        "    def forward(self, src_embedding, dst_embedding):\n",
        "        inp = torch.cat((src_embedding, dst_embedding), dim=1)\n",
        "\n",
        "        output = torch.zeros(inp.size()[0], self.hidden_dim).cuda()\n",
        "\n",
        "        for i in range(inp.size()[0]):\n",
        "            self.h = self.gru(inp[i].view(1, -1), self.h)\n",
        "            output[i] = self.h\n",
        "\n",
        "        # print(self.h.size())\n",
        "        embedding = self.linear(output.view(len(inp), -1))\n",
        "        return embedding\n",
        "\n",
        "    def reset_state(self):\n",
        "        self.gru.reset_parameters()\n",
        "        zeros(self.h)    \n",
        "\n",
        "    def detach(self):\n",
        "        self.h.detach_()"
      ],
      "execution_count": null,
      "outputs": []
    },
    {
      "cell_type": "code",
      "metadata": {
        "id": "H9i61TYszVCa"
      },
      "source": [
        "import numpy as np\n",
        "\n",
        "class GraphAttentionEmbedding(torch.nn.Module):\n",
        "    def __init__(self, in_channels, out_channels, msg_dim, time_enc):\n",
        "        super(GraphAttentionEmbedding, self).__init__()\n",
        "        self.time_enc = time_enc\n",
        "        edge_dim = msg_dim + time_enc.out_channels\n",
        "        self.conv = TransformerConv(in_channels, out_channels // 2, heads=2,\n",
        "                                    dropout=0.1, edge_dim=edge_dim)\n",
        "\n",
        "    def forward(self, x, last_update, edge_index, t, msg):\n",
        "        rel_t = last_update[edge_index[0]] - t\n",
        "        rel_t_enc = self.time_enc(rel_t.to(x.dtype))\n",
        "        edge_attr = torch.cat([rel_t_enc, msg], dim=-1)\n",
        "        return self.conv(x, edge_index, edge_attr)\n",
        "\n",
        "\n",
        "class LinkPredictor_global(torch.nn.Module):\n",
        "    def __init__(self, in_channels, global_in_channel):\n",
        "        super(LinkPredictor_global, self).__init__()\n",
        "        self.lin_src = Linear(in_channels+global_in_channel, in_channels+global_in_channel)\n",
        "        self.lin_dst = Linear(in_channels+global_in_channel, in_channels+global_in_channel)\n",
        "        self.lin_final = Linear(in_channels+global_in_channel, 1)\n",
        "\n",
        "    def forward(self, z_src, z_dst, z_global):\n",
        "        h = self.lin_src(torch.cat((z_src, z_global), dim=1)) + self.lin_dst(torch.cat((z_dst, z_global), dim=1))\n",
        "        # print(h.size())\n",
        "        h = h.relu()\n",
        "        return self.lin_final(h)\n",
        "\n",
        "class LinkPredictor(torch.nn.Module):\n",
        "    def __init__(self, in_channels):\n",
        "        super(LinkPredictor, self).__init__()\n",
        "        self.lin_src = Linear(in_channels, in_channels)\n",
        "        self.lin_dst = Linear(in_channels, in_channels)\n",
        "        self.lin_final = Linear(in_channels, 1)\n",
        "\n",
        "    def forward(self, z_src, z_dst):\n",
        "        h = self.lin_src(z_src) + self.lin_dst(z_dst)\n",
        "        h = h.relu()\n",
        "        return self.lin_final(h)\n",
        "\n",
        "\n",
        "memory_dim = time_dim = embedding_dim = 100\n",
        "global_mem_dim = 100\n",
        "hidden_dim = 100\n",
        "\n",
        "memory = TGNMemory(\n",
        "    data.num_nodes,\n",
        "    data.msg.size(-1),\n",
        "    memory_dim,\n",
        "    time_dim,\n",
        "    message_module=IdentityMessage(data.msg.size(-1), memory_dim, time_dim),\n",
        "    aggregator_module=LastAggregator(),\n",
        ").to(device)\n",
        "\n",
        "gnn = GraphAttentionEmbedding(\n",
        "    in_channels=memory_dim,\n",
        "    out_channels=embedding_dim,\n",
        "    msg_dim=data.msg.size(-1),\n",
        "    time_enc=memory.time_enc,\n",
        ").to(device)\n",
        "\n",
        "#global_mem = global_memory(embedding_dim, global_mem_dim).to(device)\n",
        "# global_mem = global_memory_lstm(embedding_dim, global_mem_dim, global_mem_dim).to(device)\n",
        "global_mem = global_lstmcell(embedding_dim, hidden_dim, global_mem_dim).to(device)\n",
        "\n",
        "\n",
        "\n",
        "# link_pred = LinkPredictor(in_channels=embedding_dim).to(device)\n",
        "link_pred = LinkPredictor_global(in_channels=embedding_dim, global_in_channel = global_mem_dim).to(device)\n",
        "\n",
        "optimizer = torch.optim.Adam(\n",
        "    set(memory.parameters()) | set(gnn.parameters()) | set(global_mem.parameters())\n",
        "    | set(link_pred.parameters()), lr=0.0001)\n",
        "criterion = torch.nn.BCEWithLogitsLoss()\n",
        "\n",
        "assoc = torch.empty(data.num_nodes, dtype=torch.long, device=device)"
      ],
      "execution_count": null,
      "outputs": []
    },
    {
      "cell_type": "code",
      "metadata": {
        "id": "wxzBopw-1k2f"
      },
      "source": [
        "def train():\n",
        "    memory.train()\n",
        "    gnn.train()\n",
        "    link_pred.train()\n",
        "    global_mem.train()\n",
        "\n",
        "    memory.reset_state()  # Start with a fresh memory.\n",
        "    neighbor_loader.reset_state()  # Start with an empty graph.\n",
        "    global_mem.reset_state() #start with a fresh graph memory\n",
        "\n",
        "    total_loss = 0\n",
        "    total_global_loss = 0\n",
        "    for batch in train_data.seq_batches(batch_size=200):\n",
        "        optimizer.zero_grad()\n",
        "\n",
        "        src, pos_dst, t, msg = batch.src, batch.dst, batch.t, batch.msg\n",
        "\n",
        "        # Sample negative destination nodes.\n",
        "        neg_dst = torch.randint(min_dst_idx, max_dst_idx + 1, (src.size(0), ),\n",
        "                                dtype=torch.long, device=device)\n",
        "\n",
        "        n_id = torch.cat([src, pos_dst, neg_dst]).unique()\n",
        "        n_id, edge_index, e_id = neighbor_loader(n_id)\n",
        "        assoc[n_id] = torch.arange(n_id.size(0), device=device)\n",
        "\n",
        "        # Get updated memory of all nodes involved in the computation.\n",
        "        z, last_update = memory(n_id)\n",
        "        z = gnn(z, last_update, edge_index, data.t[e_id], data.msg[e_id])\n",
        "\n",
        "        z_global_pos = global_mem(z[assoc[src]], z[assoc[pos_dst]])\n",
        "        z_global_neg = global_mem(z[assoc[src]], z[assoc[neg_dst]])\n",
        "\n",
        "        # pos_out = link_pred(z[assoc[src]], z[assoc[pos_dst]])\n",
        "        # neg_out = link_pred(z[assoc[src]], z[assoc[neg_dst]])\n",
        "\n",
        "        pos_out = link_pred(z[assoc[src]], z[assoc[pos_dst]], z_global_pos)\n",
        "        neg_out = link_pred(z[assoc[src]], z[assoc[neg_dst]], z_global_neg)\n",
        "\n",
        "        loss = criterion(pos_out, torch.ones_like(pos_out))\n",
        "        loss += criterion(neg_out, torch.zeros_like(neg_out))\n",
        "\n",
        "        # Update memory and neighbor loader with ground-truth state.\n",
        "        memory.update_state(src, pos_dst, t, msg)\n",
        "        neighbor_loader.insert(src, pos_dst)\n",
        "\n",
        "        loss.backward()\n",
        "        optimizer.step()\n",
        "        memory.detach()\n",
        "        global_mem.detach()\n",
        "        \n",
        "        total_loss += float(loss) * batch.num_events\n",
        "    return total_loss / train_data.num_events"
      ],
      "execution_count": null,
      "outputs": []
    },
    {
      "cell_type": "code",
      "metadata": {
        "id": "bOcF4eRp1pMa"
      },
      "source": [
        "@torch.no_grad()\n",
        "def test(inference_data):\n",
        "    memory.eval()\n",
        "    gnn.eval()\n",
        "    link_pred.eval()\n",
        "    global_mem.eval()\n",
        "\n",
        "    torch.manual_seed(12345)  # Ensure deterministic sampling across epochs.\n",
        "\n",
        "    aps, aucs, acc = [], [], []\n",
        "    for batch in inference_data.seq_batches(batch_size=200):\n",
        "        src, pos_dst, t, msg = batch.src, batch.dst, batch.t, batch.msg\n",
        "\n",
        "        neg_dst = torch.randint(min_dst_idx, max_dst_idx + 1, (src.size(0), ),\n",
        "                                dtype=torch.long, device=device)\n",
        "\n",
        "        n_id = torch.cat([src, pos_dst, neg_dst]).unique()\n",
        "        n_id, edge_index, e_id = neighbor_loader(n_id)\n",
        "        assoc[n_id] = torch.arange(n_id.size(0), device=device)\n",
        "\n",
        "\n",
        "        z, last_update = memory(n_id)\n",
        "        z = gnn(z, last_update, edge_index, data.t[e_id], data.msg[e_id])\n",
        "\n",
        "        z_global_pos = global_mem(z[assoc[src]], z[assoc[pos_dst]])\n",
        "        z_global_neg = global_mem(z[assoc[src]], z[assoc[neg_dst]])\n",
        " \n",
        "        pos_out = link_pred(z[assoc[src]], z[assoc[pos_dst]], z_global_pos)\n",
        "        neg_out = link_pred(z[assoc[src]], z[assoc[neg_dst]], z_global_neg)\n",
        "\n",
        "        y_pred = torch.cat([pos_out, neg_out], dim=0).sigmoid().cpu()\n",
        "        y_true = torch.cat(\n",
        "            [torch.ones(pos_out.size(0)),\n",
        "             torch.zeros(neg_out.size(0))], dim=0)\n",
        "\n",
        "        aps.append(average_precision_score(y_true, y_pred))\n",
        "        aucs.append(roc_auc_score(y_true, y_pred))\n",
        "        acc.append(accuracy_score(y_true, y_pred.round()))\n",
        "\n",
        "        memory.update_state(src, pos_dst, t, msg)\n",
        "        neighbor_loader.insert(src, pos_dst)\n",
        "        \n",
        "    return float(torch.tensor(aps).mean()), float(torch.tensor(aucs).mean()), float(torch.tensor(acc).mean())\n"
      ],
      "execution_count": null,
      "outputs": []
    },
    {
      "cell_type": "code",
      "metadata": {
        "colab": {
          "base_uri": "https://localhost:8080/"
        },
        "id": "NjF3wwOb1wgH",
        "outputId": "cdcf6df4-27ee-486e-c786-29331e7eb65c"
      },
      "source": [
        "val_ap_list = []\n",
        "test_ap_list = []\n",
        "val_acc_list = []\n",
        "test_acc_list = []\n",
        "for epoch in range(1, 20):\n",
        "    loss = train()\n",
        "    print(f'  Epoch: {epoch:02d}, Loss: {loss:.4f}')\n",
        "    val_ap, val_auc, val_acc = test(val_data)\n",
        "    test_ap, test_auc, test_acc = test(test_data)\n",
        "    val_ap_list.append(val_ap)\n",
        "    test_ap_list.append(test_ap)\n",
        "    print(f' Val AP: {val_ap:.4f},  Val AUC: {val_auc:.4f}, Val Acc: {val_acc:.4f} ')\n",
        "    print(f'Test AP: {test_ap:.4f}, Test AUC: {test_auc:.4f}, Test Acc: {test_acc:.4f}')"
      ],
      "execution_count": null,
      "outputs": [
        {
          "output_type": "stream",
          "text": [
            "  Epoch: 01, Loss: 1.3865\n",
            " Val AP: 0.5168,  Val AUC: 0.5097, Val Acc: 0.5063 \n",
            "Test AP: 0.5121, Test AUC: 0.5047, Test Acc: 0.5029\n",
            "  Epoch: 02, Loss: 1.3865\n",
            " Val AP: 0.5068,  Val AUC: 0.4991, Val Acc: 0.4976 \n",
            "Test AP: 0.5000, Test AUC: 0.4925, Test Acc: 0.4992\n",
            "  Epoch: 03, Loss: 1.3864\n",
            " Val AP: 0.5082,  Val AUC: 0.5012, Val Acc: 0.4947 \n",
            "Test AP: 0.5060, Test AUC: 0.4985, Test Acc: 0.4996\n",
            "  Epoch: 04, Loss: 1.3864\n",
            " Val AP: 0.5071,  Val AUC: 0.5001, Val Acc: 0.4967 \n",
            "Test AP: 0.5045, Test AUC: 0.4961, Test Acc: 0.4975\n",
            "  Epoch: 05, Loss: 1.3864\n",
            " Val AP: 0.5100,  Val AUC: 0.5019, Val Acc: 0.4967 \n",
            "Test AP: 0.5048, Test AUC: 0.4968, Test Acc: 0.4984\n",
            "  Epoch: 06, Loss: 1.3864\n",
            " Val AP: 0.5112,  Val AUC: 0.5029, Val Acc: 0.4969 \n",
            "Test AP: 0.5043, Test AUC: 0.4952, Test Acc: 0.4985\n",
            "  Epoch: 07, Loss: 1.3865\n",
            " Val AP: 0.5096,  Val AUC: 0.5042, Val Acc: 0.5011 \n",
            "Test AP: 0.5020, Test AUC: 0.4952, Test Acc: 0.4950\n",
            "  Epoch: 08, Loss: 1.3864\n",
            " Val AP: 0.5112,  Val AUC: 0.5045, Val Acc: 0.4981 \n",
            "Test AP: 0.5013, Test AUC: 0.4944, Test Acc: 0.4979\n",
            "  Epoch: 09, Loss: 1.3865\n",
            " Val AP: 0.5097,  Val AUC: 0.5030, Val Acc: 0.4979 \n",
            "Test AP: 0.5062, Test AUC: 0.4977, Test Acc: 0.4974\n",
            "  Epoch: 10, Loss: 1.3864\n",
            " Val AP: 0.5097,  Val AUC: 0.5023, Val Acc: 0.4982 \n",
            "Test AP: 0.5052, Test AUC: 0.4972, Test Acc: 0.4982\n",
            "  Epoch: 11, Loss: 1.3865\n",
            " Val AP: 0.5108,  Val AUC: 0.5054, Val Acc: 0.5002 \n",
            "Test AP: 0.5043, Test AUC: 0.4957, Test Acc: 0.4967\n",
            "  Epoch: 12, Loss: 1.3865\n",
            " Val AP: 0.5117,  Val AUC: 0.5051, Val Acc: 0.4996 \n",
            "Test AP: 0.5051, Test AUC: 0.4965, Test Acc: 0.4958\n",
            "  Epoch: 13, Loss: 1.3865\n",
            " Val AP: 0.5090,  Val AUC: 0.5024, Val Acc: 0.4994 \n",
            "Test AP: 0.5068, Test AUC: 0.4985, Test Acc: 0.4993\n",
            "  Epoch: 14, Loss: 1.3865\n",
            " Val AP: 0.5131,  Val AUC: 0.5063, Val Acc: 0.4999 \n",
            "Test AP: 0.5067, Test AUC: 0.4981, Test Acc: 0.4990\n",
            "  Epoch: 15, Loss: 1.3865\n",
            " Val AP: 0.5089,  Val AUC: 0.5006, Val Acc: 0.4973 \n",
            "Test AP: 0.5045, Test AUC: 0.4945, Test Acc: 0.4991\n",
            "  Epoch: 16, Loss: 1.3865\n",
            " Val AP: 0.5095,  Val AUC: 0.5015, Val Acc: 0.4973 \n",
            "Test AP: 0.5035, Test AUC: 0.4966, Test Acc: 0.4991\n",
            "  Epoch: 17, Loss: 1.3865\n",
            " Val AP: 0.5062,  Val AUC: 0.4990, Val Acc: 0.4975 \n",
            "Test AP: 0.5051, Test AUC: 0.4969, Test Acc: 0.4989\n",
            "  Epoch: 18, Loss: 1.3865\n",
            " Val AP: 0.5106,  Val AUC: 0.5052, Val Acc: 0.4969 \n",
            "Test AP: 0.5044, Test AUC: 0.4967, Test Acc: 0.4974\n",
            "  Epoch: 19, Loss: 1.3864\n",
            " Val AP: 0.5088,  Val AUC: 0.5033, Val Acc: 0.5007 \n",
            "Test AP: 0.5037, Test AUC: 0.4961, Test Acc: 0.4970\n"
          ],
          "name": "stdout"
        }
      ]
    },
    {
      "cell_type": "code",
      "metadata": {
        "id": "__hKwLjoZceb",
        "colab": {
          "base_uri": "https://localhost:8080/",
          "height": 225
        },
        "outputId": "5c7c7555-33b0-4db3-daf8-3cfc34c31084"
      },
      "source": [
        "import matplotlib.pyplot as plt\n",
        "%matplotlib inline\n",
        "\n",
        "fig, axes = plt.subplots(nrows=1, ncols=2, figsize=(5, 3))\n",
        "axes[0].plot(val_ap_list)\n",
        "axes[1].plot(test_ap_list)\n",
        "axes[0].set_ylim([0, 1.1])\n",
        "plt.ylim(ymin=0, ymax=1.1)\n",
        "fig.tight_layout()\n",
        "plt.show()"
      ],
      "execution_count": null,
      "outputs": [
        {
          "output_type": "display_data",
          "data": {
            "image/png": "[encoded data removed]",
            "text/plain": [
              "<Figure size 360x216 with 2 Axes>"
            ]
          },
          "metadata": {
            "tags": [],
            "needs_background": "light"
          }
        }
      ]
    },
    {
      "cell_type": "code",
      "metadata": {
        "id": "W36ksC2G3LW1",
        "colab": {
          "base_uri": "https://localhost:8080/",
          "height": 265
        },
        "outputId": "5ce0173a-c9d6-4653-9f8c-8fe4b65e0ce1"
      },
      "source": [
        "import matplotlib.pyplot as plt\n",
        "%matplotlib inline\n",
        "\n",
        "plt.plot(val_ap_list)\n",
        "plt.ylabel('some numbers')\n",
        "plt.ylim(ymin=0, ymax=1.1)\n",
        "plt.show()\n"
      ],
      "execution_count": null,
      "outputs": [
        {
          "output_type": "display_data",
          "data": {
            "image/png": "[encoded data removed]",
            "text/plain": [
              "<Figure size 432x288 with 1 Axes>"
            ]
          },
          "metadata": {
            "tags": [],
            "needs_background": "light"
          }
        }
      ]
    },
    {
      "cell_type": "code",
      "metadata": {
        "id": "1wSdcTNfYX2a"
      },
      "source": [
        ""
      ],
      "execution_count": null,
      "outputs": []
    }
  ]
}